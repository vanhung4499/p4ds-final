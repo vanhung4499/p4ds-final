{
 "cells": [
  {
   "cell_type": "markdown",
   "source": [
    "# Module 2 - EDA"
   ],
   "metadata": {
    "collapsed": false
   }
  },
  {
   "cell_type": "markdown",
   "source": [
    "## 0. Import and constant"
   ],
   "metadata": {
    "collapsed": false
   }
  },
  {
   "cell_type": "code",
   "execution_count": 2,
   "outputs": [],
   "source": [
    "import numpy as np\n",
    "import pandas as pd\n",
    "import matplotlib as plt"
   ],
   "metadata": {
    "collapsed": false
   }
  },
  {
   "cell_type": "code",
   "execution_count": 3,
   "outputs": [],
   "source": [
    "DATA_CSV = './data/hcm-apartment-rent-data.csv'"
   ],
   "metadata": {
    "collapsed": false
   }
  },
  {
   "cell_type": "markdown",
   "source": [
    "## 1. Khám phá dữ liệu"
   ],
   "metadata": {
    "collapsed": false
   }
  },
  {
   "cell_type": "code",
   "execution_count": null,
   "outputs": [],
   "source": [
    "### 1.1. Đọc dữ liệu"
   ],
   "metadata": {
    "collapsed": false
   }
  },
  {
   "cell_type": "code",
   "execution_count": 4,
   "outputs": [
    {
     "data": {
      "text/plain": "       ad_id    list_id                                            subject  \\\n0  140064645  101581228     Căn hộ cho thuê giá 7.5 triệu Khang Gia Gò Vấp   \n1  139204943  100868150        CHO THUÊ 13TR FULL NT 2PN-THE SUN AVENUE Q2   \n2  139614436  101207971   Cho Thuê Căn Hộ 3PN DREAMHOME PALACE NT như hình   \n3  140081070  101595037    🔥 NOEL ĐẶC BIỆT🔥 CĂN HỘ CHO THUÊ GIÁ RẺ QUẬN 10   \n4  134246472   96807427  Căn hộ Hưng Ngân 2PN, 70m2, full nội thất, ở liền   \n\n      price  size  rooms  toilets          area_name     region_name  \\\n0   7500000  76.0      2        2        Quận Gò Vấp  Tp Hồ Chí Minh   \n1  13000000  56.0      2        1  Thành phố Thủ Đức  Tp Hồ Chí Minh   \n2   8000000  79.0      3        2             Quận 8  Tp Hồ Chí Minh   \n3   6200000  30.0      1        1            Quận 10  Tp Hồ Chí Minh   \n4   7500000  68.0      2        2            Quận 12  Tp Hồ Chí Minh   \n\n                   ward_name  \\\n0                  Phường 14   \n1  Phường An Phú (Quận 2 cũ)   \n2                   Phường 7   \n3                  Phường 14   \n4      Phường Tân Chánh Hiệp   \n\n                                         street_name  \\\n0                                              Số 45   \n1                                       Đường An Phú   \n2                                                NaN   \n3                                  Hẻm 51 Thành Thái   \n4  Đường Tân Chánh Hiệp 21, Phường Tân Chánh Hiệp...   \n\n                                detail_address  escrow_can_deposit  \\\n0  Đường Số 45, Phường 14, Gò Vấp, Hồ Chí Minh                   2   \n1                                          NaN                   2   \n2                                          NaN                   2   \n3                                          NaN                   2   \n4                      Quận 12, Tp Hồ Chí Minh                   2   \n\n   zero_deposit  longitude  latitude  \n0         False  106.63781  10.84310  \n1         False  106.75142  10.80719  \n2         False  106.62474  10.70677  \n3         False  106.66371  10.77188  \n4         False  106.62596  10.86830  ",
      "text/html": "<div>\n<style scoped>\n    .dataframe tbody tr th:only-of-type {\n        vertical-align: middle;\n    }\n\n    .dataframe tbody tr th {\n        vertical-align: top;\n    }\n\n    .dataframe thead th {\n        text-align: right;\n    }\n</style>\n<table border=\"1\" class=\"dataframe\">\n  <thead>\n    <tr style=\"text-align: right;\">\n      <th></th>\n      <th>ad_id</th>\n      <th>list_id</th>\n      <th>subject</th>\n      <th>price</th>\n      <th>size</th>\n      <th>rooms</th>\n      <th>toilets</th>\n      <th>area_name</th>\n      <th>region_name</th>\n      <th>ward_name</th>\n      <th>street_name</th>\n      <th>detail_address</th>\n      <th>escrow_can_deposit</th>\n      <th>zero_deposit</th>\n      <th>longitude</th>\n      <th>latitude</th>\n    </tr>\n  </thead>\n  <tbody>\n    <tr>\n      <th>0</th>\n      <td>140064645</td>\n      <td>101581228</td>\n      <td>Căn hộ cho thuê giá 7.5 triệu Khang Gia Gò Vấp</td>\n      <td>7500000</td>\n      <td>76.0</td>\n      <td>2</td>\n      <td>2</td>\n      <td>Quận Gò Vấp</td>\n      <td>Tp Hồ Chí Minh</td>\n      <td>Phường 14</td>\n      <td>Số 45</td>\n      <td>Đường Số 45, Phường 14, Gò Vấp, Hồ Chí Minh</td>\n      <td>2</td>\n      <td>False</td>\n      <td>106.63781</td>\n      <td>10.84310</td>\n    </tr>\n    <tr>\n      <th>1</th>\n      <td>139204943</td>\n      <td>100868150</td>\n      <td>CHO THUÊ 13TR FULL NT 2PN-THE SUN AVENUE Q2</td>\n      <td>13000000</td>\n      <td>56.0</td>\n      <td>2</td>\n      <td>1</td>\n      <td>Thành phố Thủ Đức</td>\n      <td>Tp Hồ Chí Minh</td>\n      <td>Phường An Phú (Quận 2 cũ)</td>\n      <td>Đường An Phú</td>\n      <td>NaN</td>\n      <td>2</td>\n      <td>False</td>\n      <td>106.75142</td>\n      <td>10.80719</td>\n    </tr>\n    <tr>\n      <th>2</th>\n      <td>139614436</td>\n      <td>101207971</td>\n      <td>Cho Thuê Căn Hộ 3PN DREAMHOME PALACE NT như hình</td>\n      <td>8000000</td>\n      <td>79.0</td>\n      <td>3</td>\n      <td>2</td>\n      <td>Quận 8</td>\n      <td>Tp Hồ Chí Minh</td>\n      <td>Phường 7</td>\n      <td>NaN</td>\n      <td>NaN</td>\n      <td>2</td>\n      <td>False</td>\n      <td>106.62474</td>\n      <td>10.70677</td>\n    </tr>\n    <tr>\n      <th>3</th>\n      <td>140081070</td>\n      <td>101595037</td>\n      <td>🔥 NOEL ĐẶC BIỆT🔥 CĂN HỘ CHO THUÊ GIÁ RẺ QUẬN 10</td>\n      <td>6200000</td>\n      <td>30.0</td>\n      <td>1</td>\n      <td>1</td>\n      <td>Quận 10</td>\n      <td>Tp Hồ Chí Minh</td>\n      <td>Phường 14</td>\n      <td>Hẻm 51 Thành Thái</td>\n      <td>NaN</td>\n      <td>2</td>\n      <td>False</td>\n      <td>106.66371</td>\n      <td>10.77188</td>\n    </tr>\n    <tr>\n      <th>4</th>\n      <td>134246472</td>\n      <td>96807427</td>\n      <td>Căn hộ Hưng Ngân 2PN, 70m2, full nội thất, ở liền</td>\n      <td>7500000</td>\n      <td>68.0</td>\n      <td>2</td>\n      <td>2</td>\n      <td>Quận 12</td>\n      <td>Tp Hồ Chí Minh</td>\n      <td>Phường Tân Chánh Hiệp</td>\n      <td>Đường Tân Chánh Hiệp 21, Phường Tân Chánh Hiệp...</td>\n      <td>Quận 12, Tp Hồ Chí Minh</td>\n      <td>2</td>\n      <td>False</td>\n      <td>106.62596</td>\n      <td>10.86830</td>\n    </tr>\n  </tbody>\n</table>\n</div>"
     },
     "execution_count": 4,
     "metadata": {},
     "output_type": "execute_result"
    }
   ],
   "source": [
    "apartment_df = pd.read_csv(DATA_CSV)\n",
    "apartment_df.head()"
   ],
   "metadata": {
    "collapsed": false
   }
  },
  {
   "cell_type": "markdown",
   "source": [
    "## 2. Xử lý dữ liệu"
   ],
   "metadata": {
    "collapsed": false
   }
  },
  {
   "cell_type": "markdown",
   "source": [
    "##"
   ],
   "metadata": {
    "collapsed": false
   }
  }
 ],
 "metadata": {
  "kernelspec": {
   "display_name": "Python 3",
   "language": "python",
   "name": "python3"
  },
  "language_info": {
   "codemirror_mode": {
    "name": "ipython",
    "version": 2
   },
   "file_extension": ".py",
   "mimetype": "text/x-python",
   "name": "python",
   "nbconvert_exporter": "python",
   "pygments_lexer": "ipython2",
   "version": "2.7.6"
  }
 },
 "nbformat": 4,
 "nbformat_minor": 0
}
