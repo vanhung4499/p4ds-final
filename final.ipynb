{
 "cells": [
  {
   "cell_type": "markdown",
   "source": [
    "# ĐỒ ÁN CUỐI KỲ LẬP TRÌNH CHO KHOA HỌC DỮ LIỆU"
   ],
   "metadata": {
    "collapsed": false
   }
  },
  {
   "cell_type": "markdown",
   "source": [
    "## Thông tin đồ án\n",
    "\n",
    "+ Chủ đề: **Tìm hiểu về giá thuê chung cư ở thành phố Hồ Chí Minh**\n",
    "+ Github: [p4ds-final](https://github.com/vanhung4499/p4ds-final)\n",
    "\n",
    "### Thông tin nhóm\n",
    "\n",
    "Nhóm chỉ có một thành viên duy nhất\n",
    "\n",
    "| MSSV    | Họ và tên       |\n",
    "|---------|-----------------|\n",
    "| 1712222 | Nguyễn Văn Hùng |"
   ],
   "metadata": {
    "collapsed": false
   }
  },
  {
   "cell_type": "markdown",
   "source": [
    "## Môi trường làm việc"
   ],
   "metadata": {
    "collapsed": false
   }
  },
  {
   "cell_type": "code",
   "execution_count": 63,
   "outputs": [
    {
     "data": {
      "text/plain": "'/usr/local/anaconda3/envs/min_ds-env/bin/python'"
     },
     "execution_count": 63,
     "metadata": {},
     "output_type": "execute_result"
    }
   ],
   "source": [
    "import sys\n",
    "sys.executable"
   ],
   "metadata": {
    "collapsed": false
   }
  },
  {
   "cell_type": "markdown",
   "source": [
    "Môi trường làm việc mà em dùng:\n",
    "+ OS: macOS\n",
    "+ IDE: Pycharm\n",
    "+ Sử dụng mội trường `min_ds-evn` như các bài lab"
   ],
   "metadata": {
    "collapsed": false
   }
  },
  {
   "cell_type": "markdown",
   "source": [
    "## Import and constant"
   ],
   "metadata": {
    "collapsed": false
   }
  },
  {
   "cell_type": "code",
   "execution_count": 64,
   "outputs": [],
   "source": [
    "import numpy as np\n",
    "import pandas as pd\n",
    "import matplotlib as plt\n",
    "import seaborn as sns"
   ],
   "metadata": {
    "collapsed": false
   }
  },
  {
   "cell_type": "code",
   "execution_count": 65,
   "outputs": [],
   "source": [
    "DATA_CSV = './data/hcm-apartment-rent-data.csv'"
   ],
   "metadata": {
    "collapsed": false
   }
  },
  {
   "cell_type": "markdown",
   "source": [
    "## 1. Thu thập dữ liệu"
   ],
   "metadata": {
    "collapsed": false
   }
  },
  {
   "cell_type": "markdown",
   "source": [
    "### 1.1. Chủ đề, mục đích và nguồn của dữ liệu?\n",
    "\n",
    "+ Chủ đề em nhắm tới là về giá thuê chung cư ở thành phố Hồ Chí Minh\n",
    "+ Do tìm trên kaggle chỉ có duy nhất một bộ dữ liệu về giá thuê chung cư của thành phố Hồ Chí Minh nhưng đã cũ và em cảm thấy nó ít không đủ các cột nên em đã tự crawl dữ liệu từ [nhatot.vn](https://www.nhatot.com/thue-can-ho-chung-cu-tp-ho-chi-minh), trang môi giới xếp tốp đầu trong lĩnh vực bất động sản trên [Google](https://www.google.com/search?q=thu%C3%AA+chung+c%C6%B0+h%E1%BB%93+ch%C3%AD+minh&oq=thu%C3%AA+chung+c%C6%B0&aqs=chrome.1.69i59l3j0i512l2j69i60l3.4604j0j7&sourceid=chrome&ie=UTF-8)\n",
    "+ Mục đích của em khá đơn giản là để xem xét giá cả chung cư cho thuê ở TPHCM, vì trong thời gian tới em cũng sẽ tìm chỗ ở mới (làm trước sau dùng lại)"
   ],
   "metadata": {
    "collapsed": false
   }
  },
  {
   "cell_type": "markdown",
   "source": [
    "### 1.2. Người ta có cho phép sử dụng dữ liệu như thế này hay không?\n",
    "\n",
    "+ Việc crawl dữ liệu từ nhatot có thể là không hợp pháp, trang web cũng sử dụng công cụ chống ddos, nhưng mà để phục vụ cho đồ án thì chắc không sao cả!"
   ],
   "metadata": {
    "collapsed": false
   }
  },
  {
   "cell_type": "markdown",
   "source": [
    "### 1.3. Thu thập dữ liệu này như thế nào?\n",
    "\n",
    "+ Dữ liệu được em crawl từ [nhatot.vn](https://www.nhatot.com/thue-can-ho-chung-cu-tp-ho-chi-minh), là trang môi giới về bất động sản lớn ở Việt Nam, web có rất nhiều tin cho thuê nhà\n",
    "+ Em crawl dữ liệu toàn bộ 1000 trang thu về 20000 record\n",
    "+ Chi tiết về cách crawl được mô tả ở file notebook `Crawl-data.ipynb`"
   ],
   "metadata": {
    "collapsed": false
   }
  },
  {
   "cell_type": "markdown",
   "source": [
    "## 2. Khám phá dữ liệu"
   ],
   "metadata": {
    "collapsed": false
   }
  },
  {
   "cell_type": "markdown",
   "source": [
    "### 2.1. Đọc dữ liệu"
   ],
   "metadata": {
    "collapsed": false
   }
  },
  {
   "cell_type": "code",
   "execution_count": 66,
   "outputs": [
    {
     "data": {
      "text/plain": "       ad_id    list_id      list_time  \\\n0  139905225  101449743  1669427357000   \n1  140064167  101580825  1669783016000   \n2  139905234  101449753  1669427371000   \n3  140064185  101580839  1669783034000   \n4  140064089  101580840  1669783039000   \n\n                                            subject  \\\n0      Căn hộ CMT8 Q10, Cửa sổ, Máy giặt riêng, Gác   \n1    Căn Hộ 1PN _ Kcx Tân Thuận chợ UFM sát Quận 4🌈   \n2           KHAI TRƯƠNG CĂN HỘ BANCOL FULL NỘI THẤT   \n3  Căn hộ ban công lớn cực Chill_Ngay Điện Biên Phủ   \n4   Cho thuê CHDV ngay Bình Thạnh gần Thảo Cầm Viên   \n\n                                                body      price  \\\n0  Căn hộ Cách Mạng Tháng 8 Q10, Cửa sổ, Máy giặt...  9,000,000   \n1  ⭐️Sắp hết tháng rồi khách đã tìm được phòng ch...  5,700,000   \n2  Cho thuê căn hộ\\n_Vị trí : đường Thạch Lam p.p...  4,500,000   \n3  📣📣 HỆ THỐNG CĂN HỘ STUDIO, 1PN CÒN TRỐNG, FULL... 11,000,000   \n4  𝗧𝗿𝗼̂́𝗻𝗴 𝘀𝗮̆̃𝗻 𝗖𝗛𝗗𝗩 𝗦𝘁𝘂𝗱𝗶𝗼 𝗼̛̉ 𝗱𝘂̛𝗼̛̣𝗰 𝗹𝗶𝗲̂̀𝗻 𝗴...  5,800,000   \n\n      price_string  size  rooms  toilets  ...     region_name  \\\n0    9 triệu/tháng    30      1        1  ...  Tp Hồ Chí Minh   \n1  5,7 triệu/tháng    37      1        1  ...  Tp Hồ Chí Minh   \n2  4,5 triệu/tháng    35      1        1  ...  Tp Hồ Chí Minh   \n3   11 triệu/tháng    45      1        1  ...  Tp Hồ Chí Minh   \n4  5,8 triệu/tháng    30      1        1  ...  Tp Hồ Chí Minh   \n\n           ward_name                street_name deposit  zero_deposit  \\\n0          Phường 13  Hẻm 499 Cách Mạng Tháng 8       0         False   \n1  Phường Bình Thuận          Đường Lý Phục Man       0         False   \n2   Phường Phú Thạnh            Đường Thạch Lam       0         False   \n3          Phường 17      Hẻm 372 Điện Biên Phủ       0         False   \n4          Phường 19   Đường Nguyễn Ngọc Phương       1         False   \n\n   longitude  latitude  owner  company_ad  apartment_type  \n0        107        11  False        True  Căn hộ dịch vụ  \n1        107        11  False        True  Căn hộ dịch vụ  \n2        107        11  False        True  Căn hộ dịch vụ  \n3        107        11  False        True        Chung cư  \n4        107        11  False        True  Căn hộ dịch vụ  \n\n[5 rows x 21 columns]",
      "text/html": "<div>\n<style scoped>\n    .dataframe tbody tr th:only-of-type {\n        vertical-align: middle;\n    }\n\n    .dataframe tbody tr th {\n        vertical-align: top;\n    }\n\n    .dataframe thead th {\n        text-align: right;\n    }\n</style>\n<table border=\"1\" class=\"dataframe\">\n  <thead>\n    <tr style=\"text-align: right;\">\n      <th></th>\n      <th>ad_id</th>\n      <th>list_id</th>\n      <th>list_time</th>\n      <th>subject</th>\n      <th>body</th>\n      <th>price</th>\n      <th>price_string</th>\n      <th>size</th>\n      <th>rooms</th>\n      <th>toilets</th>\n      <th>...</th>\n      <th>region_name</th>\n      <th>ward_name</th>\n      <th>street_name</th>\n      <th>deposit</th>\n      <th>zero_deposit</th>\n      <th>longitude</th>\n      <th>latitude</th>\n      <th>owner</th>\n      <th>company_ad</th>\n      <th>apartment_type</th>\n    </tr>\n  </thead>\n  <tbody>\n    <tr>\n      <th>0</th>\n      <td>139905225</td>\n      <td>101449743</td>\n      <td>1669427357000</td>\n      <td>Căn hộ CMT8 Q10, Cửa sổ, Máy giặt riêng, Gác</td>\n      <td>Căn hộ Cách Mạng Tháng 8 Q10, Cửa sổ, Máy giặt...</td>\n      <td>9,000,000</td>\n      <td>9 triệu/tháng</td>\n      <td>30</td>\n      <td>1</td>\n      <td>1</td>\n      <td>...</td>\n      <td>Tp Hồ Chí Minh</td>\n      <td>Phường 13</td>\n      <td>Hẻm 499 Cách Mạng Tháng 8</td>\n      <td>0</td>\n      <td>False</td>\n      <td>107</td>\n      <td>11</td>\n      <td>False</td>\n      <td>True</td>\n      <td>Căn hộ dịch vụ</td>\n    </tr>\n    <tr>\n      <th>1</th>\n      <td>140064167</td>\n      <td>101580825</td>\n      <td>1669783016000</td>\n      <td>Căn Hộ 1PN _ Kcx Tân Thuận chợ UFM sát Quận 4🌈</td>\n      <td>⭐️Sắp hết tháng rồi khách đã tìm được phòng ch...</td>\n      <td>5,700,000</td>\n      <td>5,7 triệu/tháng</td>\n      <td>37</td>\n      <td>1</td>\n      <td>1</td>\n      <td>...</td>\n      <td>Tp Hồ Chí Minh</td>\n      <td>Phường Bình Thuận</td>\n      <td>Đường Lý Phục Man</td>\n      <td>0</td>\n      <td>False</td>\n      <td>107</td>\n      <td>11</td>\n      <td>False</td>\n      <td>True</td>\n      <td>Căn hộ dịch vụ</td>\n    </tr>\n    <tr>\n      <th>2</th>\n      <td>139905234</td>\n      <td>101449753</td>\n      <td>1669427371000</td>\n      <td>KHAI TRƯƠNG CĂN HỘ BANCOL FULL NỘI THẤT</td>\n      <td>Cho thuê căn hộ\\n_Vị trí : đường Thạch Lam p.p...</td>\n      <td>4,500,000</td>\n      <td>4,5 triệu/tháng</td>\n      <td>35</td>\n      <td>1</td>\n      <td>1</td>\n      <td>...</td>\n      <td>Tp Hồ Chí Minh</td>\n      <td>Phường Phú Thạnh</td>\n      <td>Đường Thạch Lam</td>\n      <td>0</td>\n      <td>False</td>\n      <td>107</td>\n      <td>11</td>\n      <td>False</td>\n      <td>True</td>\n      <td>Căn hộ dịch vụ</td>\n    </tr>\n    <tr>\n      <th>3</th>\n      <td>140064185</td>\n      <td>101580839</td>\n      <td>1669783034000</td>\n      <td>Căn hộ ban công lớn cực Chill_Ngay Điện Biên Phủ</td>\n      <td>📣📣 HỆ THỐNG CĂN HỘ STUDIO, 1PN CÒN TRỐNG, FULL...</td>\n      <td>11,000,000</td>\n      <td>11 triệu/tháng</td>\n      <td>45</td>\n      <td>1</td>\n      <td>1</td>\n      <td>...</td>\n      <td>Tp Hồ Chí Minh</td>\n      <td>Phường 17</td>\n      <td>Hẻm 372 Điện Biên Phủ</td>\n      <td>0</td>\n      <td>False</td>\n      <td>107</td>\n      <td>11</td>\n      <td>False</td>\n      <td>True</td>\n      <td>Chung cư</td>\n    </tr>\n    <tr>\n      <th>4</th>\n      <td>140064089</td>\n      <td>101580840</td>\n      <td>1669783039000</td>\n      <td>Cho thuê CHDV ngay Bình Thạnh gần Thảo Cầm Viên</td>\n      <td>𝗧𝗿𝗼̂́𝗻𝗴 𝘀𝗮̆̃𝗻 𝗖𝗛𝗗𝗩 𝗦𝘁𝘂𝗱𝗶𝗼 𝗼̛̉ 𝗱𝘂̛𝗼̛̣𝗰 𝗹𝗶𝗲̂̀𝗻 𝗴...</td>\n      <td>5,800,000</td>\n      <td>5,8 triệu/tháng</td>\n      <td>30</td>\n      <td>1</td>\n      <td>1</td>\n      <td>...</td>\n      <td>Tp Hồ Chí Minh</td>\n      <td>Phường 19</td>\n      <td>Đường Nguyễn Ngọc Phương</td>\n      <td>1</td>\n      <td>False</td>\n      <td>107</td>\n      <td>11</td>\n      <td>False</td>\n      <td>True</td>\n      <td>Căn hộ dịch vụ</td>\n    </tr>\n  </tbody>\n</table>\n<p>5 rows × 21 columns</p>\n</div>"
     },
     "execution_count": 66,
     "metadata": {},
     "output_type": "execute_result"
    }
   ],
   "source": [
    "apartment_df = pd.read_csv(DATA_CSV)\n",
    "apartment_df.head()"
   ],
   "metadata": {
    "collapsed": false
   }
  },
  {
   "cell_type": "markdown",
   "source": [
    "### 2.2. Dữ liệu có bao nhiêu dòng và bao nhiêu cột?"
   ],
   "metadata": {
    "collapsed": false
   }
  },
  {
   "cell_type": "code",
   "execution_count": 67,
   "outputs": [
    {
     "data": {
      "text/plain": "(19911, 21)"
     },
     "execution_count": 67,
     "metadata": {},
     "output_type": "execute_result"
    }
   ],
   "source": [
    "apartment_df.shape"
   ],
   "metadata": {
    "collapsed": false
   }
  },
  {
   "cell_type": "markdown",
   "source": [
    "Dữ liệu gồm 19996 dòng và 20 cột, đúng như những gì đã thu thập trước đó"
   ],
   "metadata": {
    "collapsed": false
   }
  },
  {
   "cell_type": "markdown",
   "source": [
    "### 2.3. Mỗi dòng có ý nghĩa gì? Có vấn đề các dòng có ý nghĩa khác nhau không?\n",
    "\n",
    "+ Mỗi dòng là thông tin cho thuê của một căn hộ như giá thuê, diện tích, số phòng, số nhà vệ sinh, địa chỉ, ...\n",
    "+ Dựa theo thông tin trên web lúc crawl thì sẽ không có các dòng có ý nghĩa khác nhau"
   ],
   "metadata": {
    "collapsed": false
   }
  },
  {
   "cell_type": "markdown",
   "source": [
    "### 2.4. Mỗi cột có ý nghĩa gì?"
   ],
   "metadata": {
    "collapsed": false
   }
  },
  {
   "cell_type": "markdown",
   "source": [
    "Dưới đây là phần mô tả về các cột:\n",
    "\n",
    "| Column         | Description                                |\n",
    "|----------------|--------------------------------------------|\n",
    "| ad_id          | id của tin (để phân biệt)                  |\n",
    "| list_id        | id trong danh sách ads (dùng để phân biệt) |\n",
    "| list_time      | Thời gian đăng tin                         |\n",
    "| price          | Giá thuê (VND)                             |\n",
    "| price_string   | Giá thuê (triệu / tháng) cho dễ nhìn       |\n",
    "| size           | Diện tích (m2)                             |\n",
    "| rooms          | Số phòng                                   |\n",
    "| toilets        | Số nhà vệ sinh                             |\n",
    "| body           | Mô tả                                      |\n",
    "| street_name    | Đường                                      |\n",
    "| ward_name      | Phường                                     |\n",
    "| area_name      | Quận huyện                                 |\n",
    "| region_name    | Thành phố, tỉnh                            |\n",
    "| zero_deposit   | Có cần tiền cọc không?                     |\n",
    "| deposit        | Tiền cọc                                   |\n",
    "| longitude      | Kinh độ                                    |\n",
    "| latitude       | Vĩ độ                                      |\n",
    "| owner          | Có phải chủ nhà không?                     |\n",
    "| company_ad     | Tin của các nhân hay công ty               |\n",
    "| apartment_type | Kiểu căn hộ / chung cư                     |"
   ],
   "metadata": {
    "collapsed": false
   }
  },
  {
   "cell_type": "markdown",
   "source": [
    "### 2.4. Kiểm tra dữ liệu có bị trùng lặp không?"
   ],
   "metadata": {
    "collapsed": false
   }
  },
  {
   "cell_type": "code",
   "execution_count": 68,
   "outputs": [
    {
     "data": {
      "text/plain": "0"
     },
     "execution_count": 68,
     "metadata": {},
     "output_type": "execute_result"
    }
   ],
   "source": [
    "apartment_df.duplicated().sum()"
   ],
   "metadata": {
    "collapsed": false
   }
  },
  {
   "cell_type": "markdown",
   "source": [
    "Dữ liệu thu thập được không bị trùng lặp, dựa vào việc crawl trước đó nên có thể yên tâm"
   ],
   "metadata": {
    "collapsed": false
   }
  },
  {
   "cell_type": "markdown",
   "source": [
    "### 2.5. Mỗi cột hiện đang có kiểu dữ liệu gì? Có cột nào có kiểu dữ liệu chưa phù hợp để có thể xử lý tiếp không?"
   ],
   "metadata": {
    "collapsed": false
   }
  },
  {
   "cell_type": "code",
   "execution_count": 69,
   "outputs": [
    {
     "name": "stdout",
     "output_type": "stream",
     "text": [
      "<class 'pandas.core.frame.DataFrame'>\n",
      "RangeIndex: 19911 entries, 0 to 19910\n",
      "Data columns (total 21 columns):\n",
      " #   Column          Non-Null Count  Dtype  \n",
      "---  ------          --------------  -----  \n",
      " 0   ad_id           19911 non-null  int64  \n",
      " 1   list_id         19911 non-null  int64  \n",
      " 2   list_time       19911 non-null  int64  \n",
      " 3   subject         19911 non-null  object \n",
      " 4   body            19911 non-null  object \n",
      " 5   price           19897 non-null  float64\n",
      " 6   price_string    19897 non-null  object \n",
      " 7   size            19910 non-null  float64\n",
      " 8   rooms           19911 non-null  int64  \n",
      " 9   toilets         19904 non-null  float64\n",
      " 10  area_name       19903 non-null  object \n",
      " 11  region_name     19911 non-null  object \n",
      " 12  ward_name       19899 non-null  object \n",
      " 13  street_name     19696 non-null  object \n",
      " 14  deposit         19911 non-null  int64  \n",
      " 15  zero_deposit    19911 non-null  bool   \n",
      " 16  longitude       19904 non-null  float64\n",
      " 17  latitude        19904 non-null  float64\n",
      " 18  owner           19911 non-null  bool   \n",
      " 19  company_ad      19911 non-null  bool   \n",
      " 20  apartment_type  19911 non-null  object \n",
      "dtypes: bool(3), float64(5), int64(5), object(8)\n",
      "memory usage: 2.8+ MB\n"
     ]
    }
   ],
   "source": [
    "apartment_df.info()"
   ],
   "metadata": {
    "collapsed": false
   }
  },
  {
   "cell_type": "markdown",
   "source": [
    "Nhận thấy một số vấn đè như sau:\n",
    "+ Cột `toilets`, `price` là số nhà vệ sinh nên có kiểu dữ liệu `int64`\n",
    "+ Cột `list_time` là thời gian đăng tin nên có kiểu `datetime`\n",
    "+ Cột `ad_id`, `list_id`, `company_ad`, sẽ không còn cần thiết\n",
    "+ Cột `size`, `price`, `toilets`, `area_name` có bị thiếu nên ta sẽ loại bỏ những dòng thiếu này"
   ],
   "metadata": {
    "collapsed": false
   }
  },
  {
   "cell_type": "code",
   "execution_count": 70,
   "outputs": [],
   "source": [
    "# convert timestamp in milisecond to datetime\n",
    "apartment_df['list_time'] = pd.to_datetime(apartment_df['list_time'], unit='ms')"
   ],
   "metadata": {
    "collapsed": false
   }
  },
  {
   "cell_type": "code",
   "execution_count": 71,
   "outputs": [
    {
     "data": {
      "text/plain": "(19676, 18)"
     },
     "execution_count": 71,
     "metadata": {},
     "output_type": "execute_result"
    }
   ],
   "source": [
    "# drop missing value\n",
    "apartment_df = apartment_df.dropna()\n",
    "# drop not used column\n",
    "apartment_df = apartment_df.drop(['ad_id', 'list_id', 'company_ad'], axis=1)\n",
    "apartment_df.shape"
   ],
   "metadata": {
    "collapsed": false
   }
  },
  {
   "cell_type": "markdown",
   "source": [
    "Còn lại 19873 dòng"
   ],
   "metadata": {
    "collapsed": false
   }
  },
  {
   "cell_type": "code",
   "execution_count": 72,
   "outputs": [],
   "source": [
    "# convert float64 to int64\n",
    "apartment_df['toilets'] = apartment_df['toilets'].apply(np.int64)\n",
    "apartment_df['price'] = apartment_df['price'].apply(np.int64)"
   ],
   "metadata": {
    "collapsed": false
   }
  },
  {
   "cell_type": "code",
   "execution_count": 73,
   "outputs": [
    {
     "name": "stdout",
     "output_type": "stream",
     "text": [
      "<class 'pandas.core.frame.DataFrame'>\n",
      "Int64Index: 19676 entries, 0 to 19910\n",
      "Data columns (total 18 columns):\n",
      " #   Column          Non-Null Count  Dtype         \n",
      "---  ------          --------------  -----         \n",
      " 0   list_time       19676 non-null  datetime64[ns]\n",
      " 1   subject         19676 non-null  object        \n",
      " 2   body            19676 non-null  object        \n",
      " 3   price           19676 non-null  int64         \n",
      " 4   price_string    19676 non-null  object        \n",
      " 5   size            19676 non-null  float64       \n",
      " 6   rooms           19676 non-null  int64         \n",
      " 7   toilets         19676 non-null  int64         \n",
      " 8   area_name       19676 non-null  object        \n",
      " 9   region_name     19676 non-null  object        \n",
      " 10  ward_name       19676 non-null  object        \n",
      " 11  street_name     19676 non-null  object        \n",
      " 12  deposit         19676 non-null  int64         \n",
      " 13  zero_deposit    19676 non-null  bool          \n",
      " 14  longitude       19676 non-null  float64       \n",
      " 15  latitude        19676 non-null  float64       \n",
      " 16  owner           19676 non-null  bool          \n",
      " 17  apartment_type  19676 non-null  object        \n",
      "dtypes: bool(2), datetime64[ns](1), float64(3), int64(4), object(8)\n",
      "memory usage: 2.6+ MB\n"
     ]
    }
   ],
   "source": [
    "apartment_df.info()"
   ],
   "metadata": {
    "collapsed": false
   }
  },
  {
   "cell_type": "markdown",
   "source": [
    "Sau khi xử lý, dữ liệu đã khá ổn"
   ],
   "metadata": {
    "collapsed": false
   }
  },
  {
   "cell_type": "markdown",
   "source": [
    "### 2.6. Với mỗi cột có kiểu dữ liệu numeric, các giá trị được phân bố như thế nào?"
   ],
   "metadata": {
    "collapsed": false
   }
  },
  {
   "cell_type": "code",
   "execution_count": 74,
   "outputs": [
    {
     "data": {
      "text/plain": "               price    size  rooms  toilets        deposit\ncount         19,676  19,676 19,676   19,676         19,676\nmean      27,179,492      64      2        1     10,356,813\nstd      622,224,013   1,070      1        1    319,744,251\nmin          500,000       2      1        1              0\n25%        6,000,000      35      1        1              0\n50%        8,000,000      51      1        1              0\n75%       12,500,000      72      2        2      7,500,000\nmax   70,000,000,000 150,000     11        7 38,000,000,000",
      "text/html": "<div>\n<style scoped>\n    .dataframe tbody tr th:only-of-type {\n        vertical-align: middle;\n    }\n\n    .dataframe tbody tr th {\n        vertical-align: top;\n    }\n\n    .dataframe thead th {\n        text-align: right;\n    }\n</style>\n<table border=\"1\" class=\"dataframe\">\n  <thead>\n    <tr style=\"text-align: right;\">\n      <th></th>\n      <th>price</th>\n      <th>size</th>\n      <th>rooms</th>\n      <th>toilets</th>\n      <th>deposit</th>\n    </tr>\n  </thead>\n  <tbody>\n    <tr>\n      <th>count</th>\n      <td>19,676</td>\n      <td>19,676</td>\n      <td>19,676</td>\n      <td>19,676</td>\n      <td>19,676</td>\n    </tr>\n    <tr>\n      <th>mean</th>\n      <td>27,179,492</td>\n      <td>64</td>\n      <td>2</td>\n      <td>1</td>\n      <td>10,356,813</td>\n    </tr>\n    <tr>\n      <th>std</th>\n      <td>622,224,013</td>\n      <td>1,070</td>\n      <td>1</td>\n      <td>1</td>\n      <td>319,744,251</td>\n    </tr>\n    <tr>\n      <th>min</th>\n      <td>500,000</td>\n      <td>2</td>\n      <td>1</td>\n      <td>1</td>\n      <td>0</td>\n    </tr>\n    <tr>\n      <th>25%</th>\n      <td>6,000,000</td>\n      <td>35</td>\n      <td>1</td>\n      <td>1</td>\n      <td>0</td>\n    </tr>\n    <tr>\n      <th>50%</th>\n      <td>8,000,000</td>\n      <td>51</td>\n      <td>1</td>\n      <td>1</td>\n      <td>0</td>\n    </tr>\n    <tr>\n      <th>75%</th>\n      <td>12,500,000</td>\n      <td>72</td>\n      <td>2</td>\n      <td>2</td>\n      <td>7,500,000</td>\n    </tr>\n    <tr>\n      <th>max</th>\n      <td>70,000,000,000</td>\n      <td>150,000</td>\n      <td>11</td>\n      <td>7</td>\n      <td>38,000,000,000</td>\n    </tr>\n  </tbody>\n</table>\n</div>"
     },
     "execution_count": 74,
     "metadata": {},
     "output_type": "execute_result"
    }
   ],
   "source": [
    "pd.set_option('display.float_format',  '{:,.0f}'.format)\n",
    "\n",
    "numeric_cols = ['price', 'size', 'rooms', 'toilets', 'deposit']\n",
    "apartment_df[numeric_cols].describe()"
   ],
   "metadata": {
    "collapsed": false
   }
  },
  {
   "cell_type": "markdown",
   "source": [
    "+ Nhận ra ngay min và max của `price`, `size`, `deposit` có vấn đề:\n",
    "   + Làm gì có căn hộ nào mà thuê 500k/tháng, diện tích có 2 m2, dự đoán là tin rác\n",
    "   + Làm gì có ai thuê căn hộ nào thuê mà 150000 m2, giá thuê 70 tỷ/tháng, cọc 38 tỷ, dự đoán bán là đất nền nhưng đăng nhầm qua cho thuê chung cư\n",
    "+ Các cột còn lại phân bố bình thường:\n",
    "      + rooms từ 1 -> 11\n",
    "      + toilets từ 1 -> 7"
   ],
   "metadata": {
    "collapsed": false
   }
  },
  {
   "cell_type": "markdown",
   "source": [
    "### 2.7. Với mỗi cột có kiểu dữ liệu categorical, các giá trị được phân bố như thế nào?"
   ],
   "metadata": {
    "collapsed": false
   }
  },
  {
   "cell_type": "markdown",
   "source": [
    "#### Cột **region_name**"
   ],
   "metadata": {
    "collapsed": false
   }
  },
  {
   "cell_type": "code",
   "execution_count": 75,
   "outputs": [
    {
     "data": {
      "text/plain": "Tp Hồ Chí Minh    19676\nName: region_name, dtype: int64"
     },
     "execution_count": 75,
     "metadata": {},
     "output_type": "execute_result"
    }
   ],
   "source": [
    "apartment_df['region_name'].value_counts()"
   ],
   "metadata": {
    "collapsed": false
   }
  },
  {
   "cell_type": "markdown",
   "source": [
    "Do ta chỉ xem xét ở TP HCM nên cột này chỉ có duy nhất một giá trị, loại bỏ cột này luoon"
   ],
   "metadata": {
    "collapsed": false
   }
  },
  {
   "cell_type": "code",
   "execution_count": 76,
   "outputs": [],
   "source": [
    "apartment_df = apartment_df.drop(['region_name'], axis=1)"
   ],
   "metadata": {
    "collapsed": false
   }
  },
  {
   "cell_type": "markdown",
   "source": [
    "#### Cột **area_name**"
   ],
   "metadata": {
    "collapsed": false
   }
  },
  {
   "cell_type": "code",
   "execution_count": 79,
   "outputs": [
    {
     "data": {
      "text/plain": "Quận 7               3372\nThành phố Thủ Đức    3236\nQuận Bình Thạnh      2294\nQuận Tân Bình        1824\nQuận 1               1193\nQuận Phú Nhuận       1128\nQuận Gò Vấp           982\nQuận Tân Phú          854\nQuận 10               813\nQuận 8                691\nQuận 3                686\nQuận 4                670\nQuận Bình Tân         424\nHuyện Bình Chánh      391\nHuyện Nhà Bè          330\nQuận 12               291\nQuận 5                219\nQuận 6                179\nQuận 11                95\nHuyện Hóc Môn           4\nName: area_name, dtype: int64"
     },
     "execution_count": 79,
     "metadata": {},
     "output_type": "execute_result"
    }
   ],
   "source": [
    "apartment_df['area_name'].value_counts()"
   ],
   "metadata": {
    "collapsed": false
   }
  },
  {
   "cell_type": "markdown",
   "source": [
    "Trên đây là phân bố căn hộ cho thuê theo quận sắp xếp theo số lượn giảm dần:\n",
    "+ Nhiều nhất là quận 7 với hơn 3 nghìn tin cho thuê, tiếp theo là thành phố Đức (quận Thủ Đức + quận 9 + quận 2) diện tích rất lớn nhưng vẫn ít phòng cho thuê hơn quận 7\n",
    "+ Huyện Hóc Môn xếp bét bảng với chỉ 4 tin, cũng hợp lý vì chả ai qua thuê bên đấy làm gì cả"
   ],
   "metadata": {
    "collapsed": false
   }
  },
  {
   "cell_type": "markdown",
   "source": [
    "#### Cột **owner**"
   ],
   "metadata": {
    "collapsed": false
   }
  },
  {
   "cell_type": "code",
   "execution_count": 80,
   "outputs": [
    {
     "data": {
      "text/plain": "False    19676\nName: owner, dtype: int64"
     },
     "execution_count": 80,
     "metadata": {},
     "output_type": "execute_result"
    }
   ],
   "source": [
    "apartment_df['owner'].value_counts()"
   ],
   "metadata": {
    "collapsed": false
   }
  },
  {
   "cell_type": "markdown",
   "source": [
    "Tất cả đề là False, có nghĩa là không có chủ nhà nào đăng tin cho thuê, tất cả đều là môi giới, nếu thuê thì sẽ khó thương lượng giảm giá với chủ nhà đuợc vì họ thường phải trả cho môi giới một khoản phí\n",
    "\n",
    "Ta cũng loại bỏ cột này luôn"
   ],
   "metadata": {
    "collapsed": false
   }
  },
  {
   "cell_type": "code",
   "execution_count": 81,
   "outputs": [],
   "source": [
    "apartment_df = apartment_df.drop(['owner'], axis=1)"
   ],
   "metadata": {
    "collapsed": false
   }
  },
  {
   "cell_type": "markdown",
   "source": [
    "#### Cột **apartment_type**"
   ],
   "metadata": {
    "collapsed": false
   }
  },
  {
   "cell_type": "code",
   "execution_count": 82,
   "outputs": [
    {
     "data": {
      "text/plain": "Chung cư          12053\nCăn hộ dịch vụ     6606\nDuplex              698\nOfficetel           214\nPenthouse            76\nTập thể              29\nName: apartment_type, dtype: int64"
     },
     "execution_count": 82,
     "metadata": {},
     "output_type": "execute_result"
    }
   ],
   "source": [
    "apartment_df['apartment_type'].value_counts()"
   ],
   "metadata": {
    "collapsed": false
   }
  },
  {
   "cell_type": "markdown",
   "source": [
    "+ Đa số là căn hộ chung cư, tiếp theo là tới các căn hộ dịch vụ\n",
    "+ Penthouse, dupplex khá ít, vì giá cao nên sẽ có ít người có nhu cầu thuê những loại hình này\n",
    "+ Căn hộ tập thể cực ít vì chắc chả ai thuê"
   ],
   "metadata": {
    "collapsed": false
   }
  },
  {
   "cell_type": "markdown",
   "source": [
    "#### Cột **zero_deposit**"
   ],
   "metadata": {
    "collapsed": false
   }
  },
  {
   "cell_type": "code",
   "execution_count": 83,
   "outputs": [
    {
     "data": {
      "text/plain": "False    19672\nTrue         4\nName: zero_deposit, dtype: int64"
     },
     "execution_count": 83,
     "metadata": {},
     "output_type": "execute_result"
    }
   ],
   "source": [
    "apartment_df['zero_deposit'].value_counts()"
   ],
   "metadata": {
    "collapsed": false
   }
  },
  {
   "cell_type": "markdown",
   "source": [
    "Gần như chủ nhà sẽ yêu cầu tiền cọc, chủ có 4 tin không cần cọc nhưng mà khả năng cũng là do quên điền lúc tạo tin. Ta sẽ bỏ qua cột này luôn!"
   ],
   "metadata": {
    "collapsed": false
   }
  },
  {
   "cell_type": "code",
   "execution_count": 84,
   "outputs": [],
   "source": [
    "apartment_df = apartment_df.drop(['zero_deposit'], axis=1)"
   ],
   "metadata": {
    "collapsed": false
   }
  },
  {
   "cell_type": "markdown",
   "source": [
    "#### Cột **list_time**"
   ],
   "metadata": {
    "collapsed": false
   }
  },
  {
   "cell_type": "code",
   "execution_count": 85,
   "outputs": [
    {
     "data": {
      "text/plain": "2022-12-02    1715\n2022-12-03    1653\n2022-12-01    1515\n2022-11-22    1363\n2022-11-23    1361\n2022-11-30    1357\n2022-11-28    1343\n2022-11-29    1341\n2022-11-24    1322\n2022-11-25    1315\n2022-11-21    1208\n2022-11-26    1140\n2022-11-19    1024\n2022-11-20     895\n2022-11-27     814\n2022-11-18     310\nName: list_time, dtype: int64"
     },
     "execution_count": 85,
     "metadata": {},
     "output_type": "execute_result"
    }
   ],
   "source": [
    "pd.to_datetime(apartment_df['list_time']).dt.date.value_counts()"
   ],
   "metadata": {
    "collapsed": false
   }
  },
  {
   "cell_type": "markdown",
   "source": [
    "Các tin được đăng từ 18/11 tới 3/12, trong khoảng 2 tuần, nên có thể coi dữ liệu là mới, tính ở thời điểm phân tích là ngày 3/12. Ta cũng có thể bỏ cột này luôn vì nó không có quá nhiều ý nghĩa khi gần nhau"
   ],
   "metadata": {
    "collapsed": false
   }
  },
  {
   "cell_type": "code",
   "execution_count": 86,
   "outputs": [],
   "source": [
    "apartment_df = apartment_df.drop(['list_time'], axis=1)"
   ],
   "metadata": {
    "collapsed": false
   }
  },
  {
   "cell_type": "markdown",
   "source": [
    "## 3. Đặt ra các câu hỏi?"
   ],
   "metadata": {
    "collapsed": false
   }
  },
  {
   "cell_type": "markdown",
   "source": [
    "## 4. Tiền xử lý và phân tích dữ liệu để trả lời cho từng câu hỏi"
   ],
   "metadata": {
    "collapsed": false
   }
  }
 ],
 "metadata": {
  "kernelspec": {
   "display_name": "Python 3",
   "language": "python",
   "name": "python3"
  },
  "language_info": {
   "codemirror_mode": {
    "name": "ipython",
    "version": 2
   },
   "file_extension": ".py",
   "mimetype": "text/x-python",
   "name": "python",
   "nbconvert_exporter": "python",
   "pygments_lexer": "ipython2",
   "version": "2.7.6"
  }
 },
 "nbformat": 4,
 "nbformat_minor": 0
}
