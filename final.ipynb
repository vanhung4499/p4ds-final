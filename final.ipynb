{
 "cells": [
  {
   "cell_type": "markdown",
   "source": [
    "# ĐỒ ÁN CUỐI KỲ LẬP TRÌNH CHO KHOA HỌC DỮ LIỆU"
   ],
   "metadata": {
    "collapsed": false
   }
  },
  {
   "cell_type": "markdown",
   "source": [
    "## Thông tin đồ án\n",
    "\n",
    "+ Chủ đề: **Tìm hiểu về giá thuê chung cư ở thành phố Hồ Chí Minh**\n",
    "+ Github: [p4ds-final](https://github.com/vanhung4499/p4ds-final)\n",
    "\n",
    "### Thông tin nhóm\n",
    "\n",
    "Nhóm chỉ có một thành viên duy nhất\n",
    "\n",
    "| MSSV    | Họ và tên       |\n",
    "|---------|-----------------|\n",
    "| 1712222 | Nguyễn Văn Hùng |"
   ],
   "metadata": {
    "collapsed": false
   }
  },
  {
   "cell_type": "markdown",
   "source": [
    "## Môi trường làm việc"
   ],
   "metadata": {
    "collapsed": false
   }
  },
  {
   "cell_type": "code",
   "execution_count": 21,
   "outputs": [
    {
     "data": {
      "text/plain": "'/usr/local/anaconda3/envs/min_ds-env/bin/python'"
     },
     "execution_count": 21,
     "metadata": {},
     "output_type": "execute_result"
    }
   ],
   "source": [
    "import sys\n",
    "sys.executable"
   ],
   "metadata": {
    "collapsed": false
   }
  },
  {
   "cell_type": "markdown",
   "source": [
    "Môi trường làm việc mà em dùng:\n",
    "+ OS: macOS\n",
    "+ IDE: Pycharm\n",
    "+ Sử dụng mội trường `min_ds-evn` như các bài lab"
   ],
   "metadata": {
    "collapsed": false
   }
  },
  {
   "cell_type": "markdown",
   "source": [
    "## Import and constant"
   ],
   "metadata": {
    "collapsed": false
   }
  },
  {
   "cell_type": "code",
   "execution_count": 18,
   "outputs": [],
   "source": [
    "import numpy as np\n",
    "import pandas as pd\n",
    "import matplotlib as plt\n",
    "import seaborn as sns"
   ],
   "metadata": {
    "collapsed": false
   }
  },
  {
   "cell_type": "code",
   "execution_count": 19,
   "outputs": [],
   "source": [
    "DATA_CSV = './data/hcm-apartment-rent-data.csv'"
   ],
   "metadata": {
    "collapsed": false
   }
  },
  {
   "cell_type": "markdown",
   "source": [
    "## 1. Thu thập dữ liệu"
   ],
   "metadata": {
    "collapsed": false
   }
  },
  {
   "cell_type": "markdown",
   "source": [
    "### 1.1. Chủ đề, mục đích và nguồn của dữ liệu?\n",
    "\n",
    "+ Chủ đề em nhắm tới là về giá thuê chung cư ở thành phố Hồ Chí Minh\n",
    "+ Do tìm trên kaggle chỉ có duy nhất một bộ dữ liệu về giá thuê chung cư của thành phố Hồ Chí Minh nhưng đã cũ và em cảm thấy nó ít không đủ các cột nên em đã tự crawl dữ liệu từ [nhatot.vn](https://www.nhatot.com/thue-can-ho-chung-cu-tp-ho-chi-minh)\n",
    "+ Mục đích của em khá đơn giản là để xem xét giá cả chung cư cho thuê ở TPHCM, vì trong thời gian tới em cũng sẽ tìm chỗ ở mới (làm trước sau dùng lại)"
   ],
   "metadata": {
    "collapsed": false
   }
  },
  {
   "cell_type": "markdown",
   "source": [
    "### 1.2. Người ta có cho phép sử dụng dữ liệu như thế này hay không?\n",
    "\n",
    "+ Việc crawl dữ liệu từ nhatot có thể là không hợp pháp, trang web cũng sử dụng công cụ chống ddos, nhưng mà để phục vụ cho đồ án thì chắc không sao cả!"
   ],
   "metadata": {
    "collapsed": false
   }
  },
  {
   "cell_type": "markdown",
   "source": [
    "### 1.3. Thu thập dữ liệu này như thế nào?\n",
    "\n",
    "+ Dữ liệu được em crawl từ [nhatot.vn](https://www.nhatot.com/thue-can-ho-chung-cu-tp-ho-chi-minh), là trang môi giới về bất động sản lớn ở Việt Nam, web có rất nhiều tin cho thuê nhà\n",
    "+ Em crawl dữ liệu toàn bộ 1000 trang thu về 20000 record\n",
    "+ Chi tiết về cách crawl được mô tả ở file notebook `Crawl-data.ipynb`"
   ],
   "metadata": {
    "collapsed": false
   }
  },
  {
   "cell_type": "markdown",
   "source": [
    "## 2. Khám phá dữ liệu"
   ],
   "metadata": {
    "collapsed": false
   }
  },
  {
   "cell_type": "markdown",
   "source": [
    "### 2.1. Đọc dữ liệu"
   ],
   "metadata": {
    "collapsed": false
   }
  },
  {
   "cell_type": "code",
   "execution_count": 14,
   "outputs": [
    {
     "data": {
      "text/plain": "       ad_id    list_id                                            subject  \\\n0  140064645  101581228     Căn hộ cho thuê giá 7.5 triệu Khang Gia Gò Vấp   \n1  139204943  100868150        CHO THUÊ 13TR FULL NT 2PN-THE SUN AVENUE Q2   \n2  139614436  101207971   Cho Thuê Căn Hộ 3PN DREAMHOME PALACE NT như hình   \n3  140081070  101595037    🔥 NOEL ĐẶC BIỆT🔥 CĂN HỘ CHO THUÊ GIÁ RẺ QUẬN 10   \n4  134246472   96807427  Căn hộ Hưng Ngân 2PN, 70m2, full nội thất, ở liền   \n\n      price  size  rooms  toilets          area_name     region_name  \\\n0   7500000  76.0      2        2        Quận Gò Vấp  Tp Hồ Chí Minh   \n1  13000000  56.0      2        1  Thành phố Thủ Đức  Tp Hồ Chí Minh   \n2   8000000  79.0      3        2             Quận 8  Tp Hồ Chí Minh   \n3   6200000  30.0      1        1            Quận 10  Tp Hồ Chí Minh   \n4   7500000  68.0      2        2            Quận 12  Tp Hồ Chí Minh   \n\n                   ward_name  \\\n0                  Phường 14   \n1  Phường An Phú (Quận 2 cũ)   \n2                   Phường 7   \n3                  Phường 14   \n4      Phường Tân Chánh Hiệp   \n\n                                         street_name  \\\n0                                              Số 45   \n1                                       Đường An Phú   \n2                                                NaN   \n3                                  Hẻm 51 Thành Thái   \n4  Đường Tân Chánh Hiệp 21, Phường Tân Chánh Hiệp...   \n\n                                detail_address  escrow_can_deposit  \\\n0  Đường Số 45, Phường 14, Gò Vấp, Hồ Chí Minh                   2   \n1                                          NaN                   2   \n2                                          NaN                   2   \n3                                          NaN                   2   \n4                      Quận 12, Tp Hồ Chí Minh                   2   \n\n   zero_deposit  longitude  latitude  \n0         False  106.63781  10.84310  \n1         False  106.75142  10.80719  \n2         False  106.62474  10.70677  \n3         False  106.66371  10.77188  \n4         False  106.62596  10.86830  ",
      "text/html": "<div>\n<style scoped>\n    .dataframe tbody tr th:only-of-type {\n        vertical-align: middle;\n    }\n\n    .dataframe tbody tr th {\n        vertical-align: top;\n    }\n\n    .dataframe thead th {\n        text-align: right;\n    }\n</style>\n<table border=\"1\" class=\"dataframe\">\n  <thead>\n    <tr style=\"text-align: right;\">\n      <th></th>\n      <th>ad_id</th>\n      <th>list_id</th>\n      <th>subject</th>\n      <th>price</th>\n      <th>size</th>\n      <th>rooms</th>\n      <th>toilets</th>\n      <th>area_name</th>\n      <th>region_name</th>\n      <th>ward_name</th>\n      <th>street_name</th>\n      <th>detail_address</th>\n      <th>escrow_can_deposit</th>\n      <th>zero_deposit</th>\n      <th>longitude</th>\n      <th>latitude</th>\n    </tr>\n  </thead>\n  <tbody>\n    <tr>\n      <th>0</th>\n      <td>140064645</td>\n      <td>101581228</td>\n      <td>Căn hộ cho thuê giá 7.5 triệu Khang Gia Gò Vấp</td>\n      <td>7500000</td>\n      <td>76.0</td>\n      <td>2</td>\n      <td>2</td>\n      <td>Quận Gò Vấp</td>\n      <td>Tp Hồ Chí Minh</td>\n      <td>Phường 14</td>\n      <td>Số 45</td>\n      <td>Đường Số 45, Phường 14, Gò Vấp, Hồ Chí Minh</td>\n      <td>2</td>\n      <td>False</td>\n      <td>106.63781</td>\n      <td>10.84310</td>\n    </tr>\n    <tr>\n      <th>1</th>\n      <td>139204943</td>\n      <td>100868150</td>\n      <td>CHO THUÊ 13TR FULL NT 2PN-THE SUN AVENUE Q2</td>\n      <td>13000000</td>\n      <td>56.0</td>\n      <td>2</td>\n      <td>1</td>\n      <td>Thành phố Thủ Đức</td>\n      <td>Tp Hồ Chí Minh</td>\n      <td>Phường An Phú (Quận 2 cũ)</td>\n      <td>Đường An Phú</td>\n      <td>NaN</td>\n      <td>2</td>\n      <td>False</td>\n      <td>106.75142</td>\n      <td>10.80719</td>\n    </tr>\n    <tr>\n      <th>2</th>\n      <td>139614436</td>\n      <td>101207971</td>\n      <td>Cho Thuê Căn Hộ 3PN DREAMHOME PALACE NT như hình</td>\n      <td>8000000</td>\n      <td>79.0</td>\n      <td>3</td>\n      <td>2</td>\n      <td>Quận 8</td>\n      <td>Tp Hồ Chí Minh</td>\n      <td>Phường 7</td>\n      <td>NaN</td>\n      <td>NaN</td>\n      <td>2</td>\n      <td>False</td>\n      <td>106.62474</td>\n      <td>10.70677</td>\n    </tr>\n    <tr>\n      <th>3</th>\n      <td>140081070</td>\n      <td>101595037</td>\n      <td>🔥 NOEL ĐẶC BIỆT🔥 CĂN HỘ CHO THUÊ GIÁ RẺ QUẬN 10</td>\n      <td>6200000</td>\n      <td>30.0</td>\n      <td>1</td>\n      <td>1</td>\n      <td>Quận 10</td>\n      <td>Tp Hồ Chí Minh</td>\n      <td>Phường 14</td>\n      <td>Hẻm 51 Thành Thái</td>\n      <td>NaN</td>\n      <td>2</td>\n      <td>False</td>\n      <td>106.66371</td>\n      <td>10.77188</td>\n    </tr>\n    <tr>\n      <th>4</th>\n      <td>134246472</td>\n      <td>96807427</td>\n      <td>Căn hộ Hưng Ngân 2PN, 70m2, full nội thất, ở liền</td>\n      <td>7500000</td>\n      <td>68.0</td>\n      <td>2</td>\n      <td>2</td>\n      <td>Quận 12</td>\n      <td>Tp Hồ Chí Minh</td>\n      <td>Phường Tân Chánh Hiệp</td>\n      <td>Đường Tân Chánh Hiệp 21, Phường Tân Chánh Hiệp...</td>\n      <td>Quận 12, Tp Hồ Chí Minh</td>\n      <td>2</td>\n      <td>False</td>\n      <td>106.62596</td>\n      <td>10.86830</td>\n    </tr>\n  </tbody>\n</table>\n</div>"
     },
     "execution_count": 14,
     "metadata": {},
     "output_type": "execute_result"
    }
   ],
   "source": [
    "apartment_df = pd.read_csv(DATA_CSV)\n",
    "apartment_df.head()"
   ],
   "metadata": {
    "collapsed": false
   }
  },
  {
   "cell_type": "markdown",
   "source": [
    "## 2. Khám phá dữ liệu"
   ],
   "metadata": {
    "collapsed": false
   }
  },
  {
   "cell_type": "code",
   "execution_count": null,
   "outputs": [],
   "source": [
    "## Mỗi dòng có ý nghĩa gì?"
   ],
   "metadata": {
    "collapsed": false
   }
  },
  {
   "cell_type": "markdown",
   "source": [
    "### 2.1. Ý nghĩa của các cột?"
   ],
   "metadata": {
    "collapsed": false
   }
  },
  {
   "cell_type": "markdown",
   "source": [
    "\n",
    "| Column              | Description                            |\n",
    "|---------------------|----------------------------------------|\n",
    "| ad_id               | id của tin (để phân biệt)              |\n",
    "| list_id             | id trong danh sách (dùng để phân biệt) |\n",
    "| subject             | Tiêu đề của tin                        |\n",
    "| price               | Giá thuê (VND)                         |\n",
    "| size                | Diện tích (m2)                         |\n",
    "| rooms               | Số phòng                               |\n",
    "| toilets             | Số nhà vệ sinh                         |\n",
    "| area_name           | Quận huyện                             |\n",
    "| region_name         | Thành phố, tỉnh                        |\n",
    "| ward_name           | Phường                                 |\n",
    "| street_name         | Đuờng                                  |\n",
    "| detail_address      | Địa chỉ chi tiết                       |\n",
    "| zero_deposit        | Có cần tiền cọc không?                 |\n",
    "| escrow_can_deposit  | Cọc bao nhiêu tháng?                   |\n",
    "| longitude           | Kinh độ                                |\n",
    "| latitude            | Vĩ độ                                  |"
   ],
   "metadata": {
    "collapsed": false
   }
  },
  {
   "cell_type": "markdown",
   "source": [
    "### 1.3. Dữ liệu có bao nhiêu dòng và bao nhiêu cột?"
   ],
   "metadata": {
    "collapsed": false
   }
  },
  {
   "cell_type": "code",
   "execution_count": 17,
   "outputs": [
    {
     "data": {
      "text/plain": "(20000, 16)"
     },
     "execution_count": 17,
     "metadata": {},
     "output_type": "execute_result"
    }
   ],
   "source": [
    "apartment_df.shape"
   ],
   "metadata": {
    "collapsed": false
   }
  },
  {
   "cell_type": "markdown",
   "source": [
    "Dữ liệu gồm 20000 dòng (1000 * 20) và 16 cột, đúng như những gì đã thu thập trước đó"
   ],
   "metadata": {
    "collapsed": false
   }
  },
  {
   "cell_type": "code",
   "execution_count": 8,
   "outputs": [
    {
     "data": {
      "text/plain": "                      count          mean           std           min  \\\nad_id               20000.0  1.367747e+08  7.252702e+06  1.156086e+08   \nlist_id             20000.0  9.891263e+07  5.859449e+06  8.187637e+07   \nprice               20000.0  1.295000e+07  1.098415e+07  4.200000e+06   \nsize                20000.0  6.337500e+01  2.946380e+01  2.500000e+01   \nrooms               20000.0  1.750000e+00  6.982295e-01  1.000000e+00   \ntoilets             20000.0  1.600000e+00  5.831098e-01  1.000000e+00   \nescrow_can_deposit  20000.0  2.000000e+00  0.000000e+00  2.000000e+00   \nlongitude           20000.0  1.066956e+02  4.679639e-02  1.066037e+02   \nlatitude            20000.0  1.077714e+01  4.450595e-02  1.070316e+01   \n\n                             25%           50%           75%           max  \nad_id               1.395121e+08  1.400724e+08  1.400809e+08  1.400811e+08  \nlist_id             1.011230e+08  1.015880e+08  1.015949e+08  1.015950e+08  \nprice               5.725000e+06  8.250000e+06  1.625000e+07  4.900000e+07  \nsize                3.375000e+01  6.900000e+01  7.825000e+01  1.280000e+02  \nrooms               1.000000e+00  2.000000e+00  2.000000e+00  3.000000e+00  \ntoilets             1.000000e+00  2.000000e+00  2.000000e+00  3.000000e+00  \nescrow_can_deposit  2.000000e+00  2.000000e+00  2.000000e+00  2.000000e+00  \nlongitude           1.066633e+02  1.067123e+02  1.067349e+02  1.067553e+02  \nlatitude            1.074063e+01  1.078563e+01  1.080627e+01  1.086830e+01  ",
      "text/html": "<div>\n<style scoped>\n    .dataframe tbody tr th:only-of-type {\n        vertical-align: middle;\n    }\n\n    .dataframe tbody tr th {\n        vertical-align: top;\n    }\n\n    .dataframe thead th {\n        text-align: right;\n    }\n</style>\n<table border=\"1\" class=\"dataframe\">\n  <thead>\n    <tr style=\"text-align: right;\">\n      <th></th>\n      <th>count</th>\n      <th>mean</th>\n      <th>std</th>\n      <th>min</th>\n      <th>25%</th>\n      <th>50%</th>\n      <th>75%</th>\n      <th>max</th>\n    </tr>\n  </thead>\n  <tbody>\n    <tr>\n      <th>ad_id</th>\n      <td>20000.0</td>\n      <td>1.367747e+08</td>\n      <td>7.252702e+06</td>\n      <td>1.156086e+08</td>\n      <td>1.395121e+08</td>\n      <td>1.400724e+08</td>\n      <td>1.400809e+08</td>\n      <td>1.400811e+08</td>\n    </tr>\n    <tr>\n      <th>list_id</th>\n      <td>20000.0</td>\n      <td>9.891263e+07</td>\n      <td>5.859449e+06</td>\n      <td>8.187637e+07</td>\n      <td>1.011230e+08</td>\n      <td>1.015880e+08</td>\n      <td>1.015949e+08</td>\n      <td>1.015950e+08</td>\n    </tr>\n    <tr>\n      <th>price</th>\n      <td>20000.0</td>\n      <td>1.295000e+07</td>\n      <td>1.098415e+07</td>\n      <td>4.200000e+06</td>\n      <td>5.725000e+06</td>\n      <td>8.250000e+06</td>\n      <td>1.625000e+07</td>\n      <td>4.900000e+07</td>\n    </tr>\n    <tr>\n      <th>size</th>\n      <td>20000.0</td>\n      <td>6.337500e+01</td>\n      <td>2.946380e+01</td>\n      <td>2.500000e+01</td>\n      <td>3.375000e+01</td>\n      <td>6.900000e+01</td>\n      <td>7.825000e+01</td>\n      <td>1.280000e+02</td>\n    </tr>\n    <tr>\n      <th>rooms</th>\n      <td>20000.0</td>\n      <td>1.750000e+00</td>\n      <td>6.982295e-01</td>\n      <td>1.000000e+00</td>\n      <td>1.000000e+00</td>\n      <td>2.000000e+00</td>\n      <td>2.000000e+00</td>\n      <td>3.000000e+00</td>\n    </tr>\n    <tr>\n      <th>toilets</th>\n      <td>20000.0</td>\n      <td>1.600000e+00</td>\n      <td>5.831098e-01</td>\n      <td>1.000000e+00</td>\n      <td>1.000000e+00</td>\n      <td>2.000000e+00</td>\n      <td>2.000000e+00</td>\n      <td>3.000000e+00</td>\n    </tr>\n    <tr>\n      <th>escrow_can_deposit</th>\n      <td>20000.0</td>\n      <td>2.000000e+00</td>\n      <td>0.000000e+00</td>\n      <td>2.000000e+00</td>\n      <td>2.000000e+00</td>\n      <td>2.000000e+00</td>\n      <td>2.000000e+00</td>\n      <td>2.000000e+00</td>\n    </tr>\n    <tr>\n      <th>longitude</th>\n      <td>20000.0</td>\n      <td>1.066956e+02</td>\n      <td>4.679639e-02</td>\n      <td>1.066037e+02</td>\n      <td>1.066633e+02</td>\n      <td>1.067123e+02</td>\n      <td>1.067349e+02</td>\n      <td>1.067553e+02</td>\n    </tr>\n    <tr>\n      <th>latitude</th>\n      <td>20000.0</td>\n      <td>1.077714e+01</td>\n      <td>4.450595e-02</td>\n      <td>1.070316e+01</td>\n      <td>1.074063e+01</td>\n      <td>1.078563e+01</td>\n      <td>1.080627e+01</td>\n      <td>1.086830e+01</td>\n    </tr>\n  </tbody>\n</table>\n</div>"
     },
     "execution_count": 8,
     "metadata": {},
     "output_type": "execute_result"
    }
   ],
   "source": [
    "apartment_df.describe().T"
   ],
   "metadata": {
    "collapsed": false
   }
  },
  {
   "cell_type": "code",
   "execution_count": 9,
   "outputs": [
    {
     "name": "stdout",
     "output_type": "stream",
     "text": [
      "<class 'pandas.core.frame.DataFrame'>\n",
      "RangeIndex: 20000 entries, 0 to 19999\n",
      "Data columns (total 16 columns):\n",
      " #   Column              Non-Null Count  Dtype  \n",
      "---  ------              --------------  -----  \n",
      " 0   ad_id               20000 non-null  int64  \n",
      " 1   list_id             20000 non-null  int64  \n",
      " 2   subject             20000 non-null  object \n",
      " 3   price               20000 non-null  int64  \n",
      " 4   size                20000 non-null  float64\n",
      " 5   rooms               20000 non-null  int64  \n",
      " 6   toilets             20000 non-null  int64  \n",
      " 7   area_name           20000 non-null  object \n",
      " 8   region_name         20000 non-null  object \n",
      " 9   ward_name           20000 non-null  object \n",
      " 10  street_name         18000 non-null  object \n",
      " 11  detail_address      8000 non-null   object \n",
      " 12  escrow_can_deposit  20000 non-null  int64  \n",
      " 13  zero_deposit        20000 non-null  bool   \n",
      " 14  longitude           20000 non-null  float64\n",
      " 15  latitude            20000 non-null  float64\n",
      "dtypes: bool(1), float64(3), int64(6), object(6)\n",
      "memory usage: 2.3+ MB\n"
     ]
    }
   ],
   "source": [
    "apartment_df.info()"
   ],
   "metadata": {
    "collapsed": false
   }
  },
  {
   "cell_type": "markdown",
   "source": [
    "## 2. Xử lý dữ liệu"
   ],
   "metadata": {
    "collapsed": false
   }
  },
  {
   "cell_type": "markdown",
   "source": [
    "##"
   ],
   "metadata": {
    "collapsed": false
   }
  }
 ],
 "metadata": {
  "kernelspec": {
   "display_name": "Python 3",
   "language": "python",
   "name": "python3"
  },
  "language_info": {
   "codemirror_mode": {
    "name": "ipython",
    "version": 2
   },
   "file_extension": ".py",
   "mimetype": "text/x-python",
   "name": "python",
   "nbconvert_exporter": "python",
   "pygments_lexer": "ipython2",
   "version": "2.7.6"
  }
 },
 "nbformat": 4,
 "nbformat_minor": 0
}
