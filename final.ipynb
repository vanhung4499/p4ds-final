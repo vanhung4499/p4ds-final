{
 "cells": [
  {
   "cell_type": "markdown",
   "source": [
    "# ĐỒ ÁN CUỐI KỲ LẬP TRÌNH CHO KHOA HỌC DỮ LIỆU"
   ],
   "metadata": {
    "collapsed": false
   }
  },
  {
   "cell_type": "markdown",
   "source": [
    "## Thông tin đồ án\n",
    "\n",
    "+ Chủ đề: **Tìm hiểu về giá thuê chung cư ở thành phố Hồ Chí Minh**\n",
    "+ Github: [p4ds-final](https://github.com/vanhung4499/p4ds-final)\n",
    "\n",
    "### Thông tin nhóm\n",
    "\n",
    "Nhóm chỉ có một thành viên duy nhất\n",
    "\n",
    "| MSSV    | Họ và tên       |\n",
    "|---------|-----------------|\n",
    "| 1712222 | Nguyễn Văn Hùng |"
   ],
   "metadata": {
    "collapsed": false
   }
  },
  {
   "cell_type": "markdown",
   "source": [
    "## Môi trường làm việc"
   ],
   "metadata": {
    "collapsed": false
   }
  },
  {
   "cell_type": "code",
   "execution_count": 38,
   "outputs": [
    {
     "data": {
      "text/plain": "'/usr/local/anaconda3/envs/min_ds-env/bin/python'"
     },
     "execution_count": 38,
     "metadata": {},
     "output_type": "execute_result"
    }
   ],
   "source": [
    "import sys\n",
    "sys.executable"
   ],
   "metadata": {
    "collapsed": false
   }
  },
  {
   "cell_type": "markdown",
   "source": [
    "Môi trường làm việc mà em dùng:\n",
    "+ OS: macOS\n",
    "+ IDE: Pycharm\n",
    "+ Sử dụng mội trường `min_ds-evn` như các bài lab"
   ],
   "metadata": {
    "collapsed": false
   }
  },
  {
   "cell_type": "markdown",
   "source": [
    "## Import and constant"
   ],
   "metadata": {
    "collapsed": false
   }
  },
  {
   "cell_type": "code",
   "execution_count": 39,
   "outputs": [],
   "source": [
    "import numpy as np\n",
    "import pandas as pd\n",
    "import matplotlib as plt\n",
    "import seaborn as sns"
   ],
   "metadata": {
    "collapsed": false
   }
  },
  {
   "cell_type": "code",
   "execution_count": 40,
   "outputs": [],
   "source": [
    "DATA_CSV = './data/hcm-apartment-rent-data.csv'"
   ],
   "metadata": {
    "collapsed": false
   }
  },
  {
   "cell_type": "markdown",
   "source": [
    "## 1. Thu thập dữ liệu"
   ],
   "metadata": {
    "collapsed": false
   }
  },
  {
   "cell_type": "markdown",
   "source": [
    "### 1.1. Chủ đề, mục đích và nguồn của dữ liệu?\n",
    "\n",
    "+ Chủ đề em nhắm tới là về giá thuê chung cư ở thành phố Hồ Chí Minh\n",
    "+ Do tìm trên kaggle chỉ có duy nhất một bộ dữ liệu về giá thuê chung cư của thành phố Hồ Chí Minh nhưng đã cũ và em cảm thấy nó ít không đủ các cột nên em đã tự crawl dữ liệu từ [nhatot.vn](https://www.nhatot.com/thue-can-ho-chung-cu-tp-ho-chi-minh), trang môi giới xếp tốp đầu trong lĩnh vực bất động sản trên [Google](https://www.google.com/search?q=thu%C3%AA+chung+c%C6%B0+h%E1%BB%93+ch%C3%AD+minh&oq=thu%C3%AA+chung+c%C6%B0&aqs=chrome.1.69i59l3j0i512l2j69i60l3.4604j0j7&sourceid=chrome&ie=UTF-8)\n",
    "+ Mục đích của em khá đơn giản là để xem xét giá cả chung cư cho thuê ở TPHCM, vì trong thời gian tới em cũng sẽ tìm chỗ ở mới (làm trước sau dùng lại)"
   ],
   "metadata": {
    "collapsed": false
   }
  },
  {
   "cell_type": "markdown",
   "source": [
    "### 1.2. Người ta có cho phép sử dụng dữ liệu như thế này hay không?\n",
    "\n",
    "+ Việc crawl dữ liệu từ nhatot có thể là không hợp pháp, trang web cũng sử dụng công cụ chống ddos, nhưng mà để phục vụ cho đồ án thì chắc không sao cả!"
   ],
   "metadata": {
    "collapsed": false
   }
  },
  {
   "cell_type": "markdown",
   "source": [
    "### 1.3. Thu thập dữ liệu này như thế nào?\n",
    "\n",
    "+ Dữ liệu được em crawl từ [nhatot.vn](https://www.nhatot.com/thue-can-ho-chung-cu-tp-ho-chi-minh), là trang môi giới về bất động sản lớn ở Việt Nam, web có rất nhiều tin cho thuê nhà\n",
    "+ Em crawl dữ liệu toàn bộ 1000 trang thu về 20000 record\n",
    "+ Chi tiết về cách crawl được mô tả ở file notebook `Crawl-data.ipynb`"
   ],
   "metadata": {
    "collapsed": false
   }
  },
  {
   "cell_type": "markdown",
   "source": [
    "## 2. Khám phá dữ liệu"
   ],
   "metadata": {
    "collapsed": false
   }
  },
  {
   "cell_type": "markdown",
   "source": [
    "### 2.1. Đọc dữ liệu"
   ],
   "metadata": {
    "collapsed": false
   }
  },
  {
   "cell_type": "code",
   "execution_count": 43,
   "outputs": [
    {
     "data": {
      "text/plain": "       ad_id    list_id      list_time  \\\n0  139905225  101449743  1669427357000   \n1  140064167  101580825  1669783016000   \n2  139905234  101449753  1669427371000   \n3  140064175  101580838  1669783034000   \n4  140064185  101580839  1669783034000   \n\n                                             subject  \\\n0       Căn hộ CMT8 Q10, Cửa sổ, Máy giặt riêng, Gác   \n1     Căn Hộ 1PN _ Kcx Tân Thuận chợ UFM sát Quận 4🌈   \n2            KHAI TRƯƠNG CĂN HỘ BANCOL FULL NỘI THẤT   \n3  CĂN HỘ  ĐẦY ĐỦ NỘI THẤT GẦN ĐH KINH TẾ 👉 CHỈ 3TR7   \n4   Căn hộ ban công lớn cực Chill_Ngay Điện Biên Phủ   \n\n                                                body       price  \\\n0  Căn hộ Cách Mạng Tháng 8 Q10, Cửa sổ, Máy giặt...   9000000.0   \n1  ⭐️Sắp hết tháng rồi khách đã tìm được phòng ch...   5700000.0   \n2  Cho thuê căn hộ\\n_Vị trí : đường Thạch Lam p.p...   4500000.0   \n3  💥💥CĂN HỘ  ĐẦY ĐỦ NỘI THẤT GẦN ĐH KINH TẾ\\n🍀 Vị...   3700000.0   \n4  📣📣 HỆ THỐNG CĂN HỘ STUDIO, 1PN CÒN TRỐNG, FULL...  11000000.0   \n\n      price_string  size  rooms  toilets          area_name     region_name  \\\n0    9 triệu/tháng  30.0      1      1.0            Quận 10  Tp Hồ Chí Minh   \n1  5,7 triệu/tháng  37.0      1      1.0             Quận 7  Tp Hồ Chí Minh   \n2  4,5 triệu/tháng  35.0      1      1.0       Quận Tân Phú  Tp Hồ Chí Minh   \n3  3,7 triệu/tháng  30.0      1      1.0  Quận Ngũ Hành Sơn         Đà Nẵng   \n4   11 triệu/tháng  45.0      1      1.0    Quận Bình Thạnh  Tp Hồ Chí Minh   \n\n           ward_name  deposit  zero_deposit  longitude  latitude  owner  \\\n0          Phường 13        0         False  106.67245  10.78176  False   \n1  Phường Bình Thuận        0         False  106.72563  10.74310  False   \n2   Phường Phú Thạnh        0         False  106.62711  10.77815  False   \n3     Phường Khuê Mỹ        0         False  108.25112  16.03646  False   \n4          Phường 17        0         False  106.70816  10.79913  False   \n\n   company_ad  apartment_type  \n0        True  Căn hộ dịch vụ  \n1        True  Căn hộ dịch vụ  \n2        True  Căn hộ dịch vụ  \n3        True  Căn hộ dịch vụ  \n4        True        Chung cư  ",
      "text/html": "<div>\n<style scoped>\n    .dataframe tbody tr th:only-of-type {\n        vertical-align: middle;\n    }\n\n    .dataframe tbody tr th {\n        vertical-align: top;\n    }\n\n    .dataframe thead th {\n        text-align: right;\n    }\n</style>\n<table border=\"1\" class=\"dataframe\">\n  <thead>\n    <tr style=\"text-align: right;\">\n      <th></th>\n      <th>ad_id</th>\n      <th>list_id</th>\n      <th>list_time</th>\n      <th>subject</th>\n      <th>body</th>\n      <th>price</th>\n      <th>price_string</th>\n      <th>size</th>\n      <th>rooms</th>\n      <th>toilets</th>\n      <th>area_name</th>\n      <th>region_name</th>\n      <th>ward_name</th>\n      <th>deposit</th>\n      <th>zero_deposit</th>\n      <th>longitude</th>\n      <th>latitude</th>\n      <th>owner</th>\n      <th>company_ad</th>\n      <th>apartment_type</th>\n    </tr>\n  </thead>\n  <tbody>\n    <tr>\n      <th>0</th>\n      <td>139905225</td>\n      <td>101449743</td>\n      <td>1669427357000</td>\n      <td>Căn hộ CMT8 Q10, Cửa sổ, Máy giặt riêng, Gác</td>\n      <td>Căn hộ Cách Mạng Tháng 8 Q10, Cửa sổ, Máy giặt...</td>\n      <td>9000000.0</td>\n      <td>9 triệu/tháng</td>\n      <td>30.0</td>\n      <td>1</td>\n      <td>1.0</td>\n      <td>Quận 10</td>\n      <td>Tp Hồ Chí Minh</td>\n      <td>Phường 13</td>\n      <td>0</td>\n      <td>False</td>\n      <td>106.67245</td>\n      <td>10.78176</td>\n      <td>False</td>\n      <td>True</td>\n      <td>Căn hộ dịch vụ</td>\n    </tr>\n    <tr>\n      <th>1</th>\n      <td>140064167</td>\n      <td>101580825</td>\n      <td>1669783016000</td>\n      <td>Căn Hộ 1PN _ Kcx Tân Thuận chợ UFM sát Quận 4🌈</td>\n      <td>⭐️Sắp hết tháng rồi khách đã tìm được phòng ch...</td>\n      <td>5700000.0</td>\n      <td>5,7 triệu/tháng</td>\n      <td>37.0</td>\n      <td>1</td>\n      <td>1.0</td>\n      <td>Quận 7</td>\n      <td>Tp Hồ Chí Minh</td>\n      <td>Phường Bình Thuận</td>\n      <td>0</td>\n      <td>False</td>\n      <td>106.72563</td>\n      <td>10.74310</td>\n      <td>False</td>\n      <td>True</td>\n      <td>Căn hộ dịch vụ</td>\n    </tr>\n    <tr>\n      <th>2</th>\n      <td>139905234</td>\n      <td>101449753</td>\n      <td>1669427371000</td>\n      <td>KHAI TRƯƠNG CĂN HỘ BANCOL FULL NỘI THẤT</td>\n      <td>Cho thuê căn hộ\\n_Vị trí : đường Thạch Lam p.p...</td>\n      <td>4500000.0</td>\n      <td>4,5 triệu/tháng</td>\n      <td>35.0</td>\n      <td>1</td>\n      <td>1.0</td>\n      <td>Quận Tân Phú</td>\n      <td>Tp Hồ Chí Minh</td>\n      <td>Phường Phú Thạnh</td>\n      <td>0</td>\n      <td>False</td>\n      <td>106.62711</td>\n      <td>10.77815</td>\n      <td>False</td>\n      <td>True</td>\n      <td>Căn hộ dịch vụ</td>\n    </tr>\n    <tr>\n      <th>3</th>\n      <td>140064175</td>\n      <td>101580838</td>\n      <td>1669783034000</td>\n      <td>CĂN HỘ  ĐẦY ĐỦ NỘI THẤT GẦN ĐH KINH TẾ 👉 CHỈ 3TR7</td>\n      <td>💥💥CĂN HỘ  ĐẦY ĐỦ NỘI THẤT GẦN ĐH KINH TẾ\\n🍀 Vị...</td>\n      <td>3700000.0</td>\n      <td>3,7 triệu/tháng</td>\n      <td>30.0</td>\n      <td>1</td>\n      <td>1.0</td>\n      <td>Quận Ngũ Hành Sơn</td>\n      <td>Đà Nẵng</td>\n      <td>Phường Khuê Mỹ</td>\n      <td>0</td>\n      <td>False</td>\n      <td>108.25112</td>\n      <td>16.03646</td>\n      <td>False</td>\n      <td>True</td>\n      <td>Căn hộ dịch vụ</td>\n    </tr>\n    <tr>\n      <th>4</th>\n      <td>140064185</td>\n      <td>101580839</td>\n      <td>1669783034000</td>\n      <td>Căn hộ ban công lớn cực Chill_Ngay Điện Biên Phủ</td>\n      <td>📣📣 HỆ THỐNG CĂN HỘ STUDIO, 1PN CÒN TRỐNG, FULL...</td>\n      <td>11000000.0</td>\n      <td>11 triệu/tháng</td>\n      <td>45.0</td>\n      <td>1</td>\n      <td>1.0</td>\n      <td>Quận Bình Thạnh</td>\n      <td>Tp Hồ Chí Minh</td>\n      <td>Phường 17</td>\n      <td>0</td>\n      <td>False</td>\n      <td>106.70816</td>\n      <td>10.79913</td>\n      <td>False</td>\n      <td>True</td>\n      <td>Chung cư</td>\n    </tr>\n  </tbody>\n</table>\n</div>"
     },
     "execution_count": 43,
     "metadata": {},
     "output_type": "execute_result"
    }
   ],
   "source": [
    "apartment_df = pd.read_csv(DATA_CSV)\n",
    "apartment_df.head()"
   ],
   "metadata": {
    "collapsed": false
   }
  },
  {
   "cell_type": "markdown",
   "source": [
    "### 2.2. Dữ liệu có bao nhiêu dòng và bao nhiêu cột?"
   ],
   "metadata": {
    "collapsed": false
   }
  },
  {
   "cell_type": "code",
   "execution_count": 45,
   "outputs": [
    {
     "data": {
      "text/plain": "(19996, 20)"
     },
     "execution_count": 45,
     "metadata": {},
     "output_type": "execute_result"
    }
   ],
   "source": [
    "apartment_df.shape"
   ],
   "metadata": {
    "collapsed": false
   }
  },
  {
   "cell_type": "markdown",
   "source": [
    "Dữ liệu gồm 19996 dòng và 20 cột, đúng như những gì đã thu thập trước đó"
   ],
   "metadata": {
    "collapsed": false
   }
  },
  {
   "cell_type": "markdown",
   "source": [
    "### 2.3. Mỗi dòng có ý nghĩa gì? Có vấn đề các dòng có ý nghĩa khác nhau không?\n",
    "\n",
    "+ Mỗi dòng là thông tin cho thuê của một căn hộ như giá thuê, diện tích, số phòng, số nhà vệ sinh, địa chỉ, ...\n",
    "+ Dựa theo thông tin trên web lúc crawl thì sẽ không có các dòng có ý nghĩa khác nhau"
   ],
   "metadata": {
    "collapsed": false
   }
  },
  {
   "cell_type": "markdown",
   "source": [
    "### 2.4. Mỗi cột có ý nghĩa gì?\n",
    "\n",
    "Dưới đây là phần mô tả về các cột:\n",
    "\n",
    "| Column         | Description                                |\n",
    "|----------------|--------------------------------------------|\n",
    "| ad_id          | id của tin (để phân biệt)                  |\n",
    "| list_id        | id trong danh sách ads (dùng để phân biệt) |\n",
    "| list_time      | Thời gian đăng tin                         |\n",
    "| price          | Giá thuê (VND)                             |\n",
    "| price_string   | Giá thuê (triệu / tháng) cho dễ nhìn       |\n",
    "| size           | Diện tích (m2)                             |\n",
    "| rooms          | Số phòng                                   |\n",
    "| toilets        | Số nhà vệ sinh                             |\n",
    "| body           | Mô tả                                      |\n",
    "| street_name    | Đường                                      |\n",
    "| ward_name      | Phường                                     |\n",
    "| area_name      | Quận huyện                                 |\n",
    "| region_name    | Thành phố, tỉnh                            |\n",
    "| zero_deposit   | Có cần tiền cọc không?                     |\n",
    "| deposit        | Tiền cọc                                   |\n",
    "| longitude      | Kinh độ                                    |\n",
    "| latitude       | Vĩ độ                                      |\n",
    "| owner          | Có phải chủ nhà không?                     |\n",
    "| company_ad     | Tin của các nhân hay công ty               |\n",
    "| apartment_type | Kiểu căn hộ / chung cư                     |"
   ],
   "metadata": {
    "collapsed": false
   }
  },
  {
   "cell_type": "markdown",
   "source": [
    "### 2.4. Kiểm tra dữ liệu có bị trùng lặp không?"
   ],
   "metadata": {
    "collapsed": false
   }
  },
  {
   "cell_type": "code",
   "execution_count": 48,
   "outputs": [
    {
     "data": {
      "text/plain": "0"
     },
     "execution_count": 48,
     "metadata": {},
     "output_type": "execute_result"
    }
   ],
   "source": [
    "apartment_df.duplicated().sum()"
   ],
   "metadata": {
    "collapsed": false
   }
  },
  {
   "cell_type": "markdown",
   "source": [
    "Dữ liệu thu thập được không bị trùng lặp, dựa vào việc crawl trước đó nên có thể yên tâm"
   ],
   "metadata": {
    "collapsed": false
   }
  },
  {
   "cell_type": "markdown",
   "source": [
    "### 2.5. Mỗi cột hiện đang có kiểu dữ liệu gì? Có cột nào có kiểu dữ liệu chưa phù hợp để có thể xử lý tiếp không?"
   ],
   "metadata": {
    "collapsed": false
   }
  },
  {
   "cell_type": "code",
   "execution_count": 49,
   "outputs": [
    {
     "name": "stdout",
     "output_type": "stream",
     "text": [
      "<class 'pandas.core.frame.DataFrame'>\n",
      "RangeIndex: 19996 entries, 0 to 19995\n",
      "Data columns (total 20 columns):\n",
      " #   Column          Non-Null Count  Dtype  \n",
      "---  ------          --------------  -----  \n",
      " 0   ad_id           19996 non-null  int64  \n",
      " 1   list_id         19996 non-null  int64  \n",
      " 2   list_time       19996 non-null  int64  \n",
      " 3   subject         19996 non-null  object \n",
      " 4   body            19996 non-null  object \n",
      " 5   price           19979 non-null  float64\n",
      " 6   price_string    19979 non-null  object \n",
      " 7   size            19995 non-null  float64\n",
      " 8   rooms           19996 non-null  int64  \n",
      " 9   toilets         19989 non-null  float64\n",
      " 10  area_name       19990 non-null  object \n",
      " 11  region_name     19996 non-null  object \n",
      " 12  ward_name       19989 non-null  object \n",
      " 13  deposit         19996 non-null  int64  \n",
      " 14  zero_deposit    19996 non-null  bool   \n",
      " 15  longitude       19987 non-null  float64\n",
      " 16  latitude        19987 non-null  float64\n",
      " 17  owner           19996 non-null  bool   \n",
      " 18  company_ad      19996 non-null  bool   \n",
      " 19  apartment_type  19996 non-null  object \n",
      "dtypes: bool(3), float64(5), int64(5), object(7)\n",
      "memory usage: 2.7+ MB\n"
     ]
    }
   ],
   "source": [
    "apartment_df.info()"
   ],
   "metadata": {
    "collapsed": false
   }
  },
  {
   "cell_type": "code",
   "execution_count": 8,
   "outputs": [
    {
     "data": {
      "text/plain": "                      count          mean           std           min  \\\nad_id               20000.0  1.367747e+08  7.252702e+06  1.156086e+08   \nlist_id             20000.0  9.891263e+07  5.859449e+06  8.187637e+07   \nprice               20000.0  1.295000e+07  1.098415e+07  4.200000e+06   \nsize                20000.0  6.337500e+01  2.946380e+01  2.500000e+01   \nrooms               20000.0  1.750000e+00  6.982295e-01  1.000000e+00   \ntoilets             20000.0  1.600000e+00  5.831098e-01  1.000000e+00   \nescrow_can_deposit  20000.0  2.000000e+00  0.000000e+00  2.000000e+00   \nlongitude           20000.0  1.066956e+02  4.679639e-02  1.066037e+02   \nlatitude            20000.0  1.077714e+01  4.450595e-02  1.070316e+01   \n\n                             25%           50%           75%           max  \nad_id               1.395121e+08  1.400724e+08  1.400809e+08  1.400811e+08  \nlist_id             1.011230e+08  1.015880e+08  1.015949e+08  1.015950e+08  \nprice               5.725000e+06  8.250000e+06  1.625000e+07  4.900000e+07  \nsize                3.375000e+01  6.900000e+01  7.825000e+01  1.280000e+02  \nrooms               1.000000e+00  2.000000e+00  2.000000e+00  3.000000e+00  \ntoilets             1.000000e+00  2.000000e+00  2.000000e+00  3.000000e+00  \nescrow_can_deposit  2.000000e+00  2.000000e+00  2.000000e+00  2.000000e+00  \nlongitude           1.066633e+02  1.067123e+02  1.067349e+02  1.067553e+02  \nlatitude            1.074063e+01  1.078563e+01  1.080627e+01  1.086830e+01  ",
      "text/html": "<div>\n<style scoped>\n    .dataframe tbody tr th:only-of-type {\n        vertical-align: middle;\n    }\n\n    .dataframe tbody tr th {\n        vertical-align: top;\n    }\n\n    .dataframe thead th {\n        text-align: right;\n    }\n</style>\n<table border=\"1\" class=\"dataframe\">\n  <thead>\n    <tr style=\"text-align: right;\">\n      <th></th>\n      <th>count</th>\n      <th>mean</th>\n      <th>std</th>\n      <th>min</th>\n      <th>25%</th>\n      <th>50%</th>\n      <th>75%</th>\n      <th>max</th>\n    </tr>\n  </thead>\n  <tbody>\n    <tr>\n      <th>ad_id</th>\n      <td>20000.0</td>\n      <td>1.367747e+08</td>\n      <td>7.252702e+06</td>\n      <td>1.156086e+08</td>\n      <td>1.395121e+08</td>\n      <td>1.400724e+08</td>\n      <td>1.400809e+08</td>\n      <td>1.400811e+08</td>\n    </tr>\n    <tr>\n      <th>list_id</th>\n      <td>20000.0</td>\n      <td>9.891263e+07</td>\n      <td>5.859449e+06</td>\n      <td>8.187637e+07</td>\n      <td>1.011230e+08</td>\n      <td>1.015880e+08</td>\n      <td>1.015949e+08</td>\n      <td>1.015950e+08</td>\n    </tr>\n    <tr>\n      <th>price</th>\n      <td>20000.0</td>\n      <td>1.295000e+07</td>\n      <td>1.098415e+07</td>\n      <td>4.200000e+06</td>\n      <td>5.725000e+06</td>\n      <td>8.250000e+06</td>\n      <td>1.625000e+07</td>\n      <td>4.900000e+07</td>\n    </tr>\n    <tr>\n      <th>size</th>\n      <td>20000.0</td>\n      <td>6.337500e+01</td>\n      <td>2.946380e+01</td>\n      <td>2.500000e+01</td>\n      <td>3.375000e+01</td>\n      <td>6.900000e+01</td>\n      <td>7.825000e+01</td>\n      <td>1.280000e+02</td>\n    </tr>\n    <tr>\n      <th>rooms</th>\n      <td>20000.0</td>\n      <td>1.750000e+00</td>\n      <td>6.982295e-01</td>\n      <td>1.000000e+00</td>\n      <td>1.000000e+00</td>\n      <td>2.000000e+00</td>\n      <td>2.000000e+00</td>\n      <td>3.000000e+00</td>\n    </tr>\n    <tr>\n      <th>toilets</th>\n      <td>20000.0</td>\n      <td>1.600000e+00</td>\n      <td>5.831098e-01</td>\n      <td>1.000000e+00</td>\n      <td>1.000000e+00</td>\n      <td>2.000000e+00</td>\n      <td>2.000000e+00</td>\n      <td>3.000000e+00</td>\n    </tr>\n    <tr>\n      <th>escrow_can_deposit</th>\n      <td>20000.0</td>\n      <td>2.000000e+00</td>\n      <td>0.000000e+00</td>\n      <td>2.000000e+00</td>\n      <td>2.000000e+00</td>\n      <td>2.000000e+00</td>\n      <td>2.000000e+00</td>\n      <td>2.000000e+00</td>\n    </tr>\n    <tr>\n      <th>longitude</th>\n      <td>20000.0</td>\n      <td>1.066956e+02</td>\n      <td>4.679639e-02</td>\n      <td>1.066037e+02</td>\n      <td>1.066633e+02</td>\n      <td>1.067123e+02</td>\n      <td>1.067349e+02</td>\n      <td>1.067553e+02</td>\n    </tr>\n    <tr>\n      <th>latitude</th>\n      <td>20000.0</td>\n      <td>1.077714e+01</td>\n      <td>4.450595e-02</td>\n      <td>1.070316e+01</td>\n      <td>1.074063e+01</td>\n      <td>1.078563e+01</td>\n      <td>1.080627e+01</td>\n      <td>1.086830e+01</td>\n    </tr>\n  </tbody>\n</table>\n</div>"
     },
     "execution_count": 8,
     "metadata": {},
     "output_type": "execute_result"
    }
   ],
   "source": [
    "apartment_df.describe().T"
   ],
   "metadata": {
    "collapsed": false
   }
  },
  {
   "cell_type": "markdown",
   "source": [
    "## 2. Xử lý dữ liệu"
   ],
   "metadata": {
    "collapsed": false
   }
  },
  {
   "cell_type": "markdown",
   "source": [
    "##"
   ],
   "metadata": {
    "collapsed": false
   }
  }
 ],
 "metadata": {
  "kernelspec": {
   "display_name": "Python 3",
   "language": "python",
   "name": "python3"
  },
  "language_info": {
   "codemirror_mode": {
    "name": "ipython",
    "version": 2
   },
   "file_extension": ".py",
   "mimetype": "text/x-python",
   "name": "python",
   "nbconvert_exporter": "python",
   "pygments_lexer": "ipython2",
   "version": "2.7.6"
  }
 },
 "nbformat": 4,
 "nbformat_minor": 0
}
