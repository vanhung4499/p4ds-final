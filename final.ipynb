{
 "cells": [
  {
   "cell_type": "markdown",
   "metadata": {
    "collapsed": false
   },
   "source": [
    "# ĐỒ ÁN CUỐI KỲ LẬP TRÌNH CHO KHOA HỌC DỮ LIỆU"
   ]
  },
  {
   "attachments": {},
   "cell_type": "markdown",
   "metadata": {
    "collapsed": false
   },
   "source": [
    "## Thông tin đồ án\n",
    "\n",
    "+ Chủ đề: **Tìm hiểu về giá thuê chung cư ở thành phố Hồ Chí Minh**\n",
    "+ Github: [p4ds-final](https://github.com/vanhung4499/p4ds-final)\n",
    "\n",
    "### Thông tin nhóm\n",
    "\n",
    "\n",
    "| MSSV    | Họ và tên       |\n",
    "|---------|-----------------|\n",
    "| 1712222 | Nguyễn Văn Hùng |"
   ]
  },
  {
   "cell_type": "markdown",
   "metadata": {
    "collapsed": false
   },
   "source": [
    "## Môi trường làm việc"
   ]
  },
  {
   "attachments": {},
   "cell_type": "markdown",
   "metadata": {
    "collapsed": false
   },
   "source": [
    "Môi trường làm việc:\n",
    "+ OS: macOS\n",
    "+ IDE: Pycharm\n",
    "+ Sử dụng mội trường `min_ds-evn` như các bài lab"
   ]
  },
  {
   "cell_type": "code",
   "execution_count": 2,
   "metadata": {
    "collapsed": false
   },
   "outputs": [
    {
     "data": {
      "text/plain": [
       "'/usr/local/anaconda3/envs/min_ds-env/bin/python'"
      ]
     },
     "execution_count": 2,
     "metadata": {},
     "output_type": "execute_result"
    }
   ],
   "source": [
    "import sys\n",
    "sys.executable"
   ]
  },
  {
   "cell_type": "markdown",
   "metadata": {
    "collapsed": false
   },
   "source": [
    "## Import and constant"
   ]
  },
  {
   "cell_type": "code",
   "execution_count": 3,
   "metadata": {
    "collapsed": false
   },
   "outputs": [],
   "source": [
    "import numpy as np\n",
    "import pandas as pd\n",
    "from matplotlib import pyplot as plt\n",
    "import seaborn as sns"
   ]
  },
  {
   "cell_type": "code",
   "execution_count": 4,
   "metadata": {
    "collapsed": false
   },
   "outputs": [],
   "source": [
    "DATA_CSV = './data/hcm-apartment-rent-data.csv'\n",
    "plt.style.use(\"fivethirtyeight\")"
   ]
  },
  {
   "cell_type": "markdown",
   "metadata": {
    "collapsed": false
   },
   "source": [
    "## 1. Thu thập dữ liệu"
   ]
  },
  {
   "cell_type": "markdown",
   "metadata": {
    "collapsed": false
   },
   "source": [
    "### 1.1. Chủ đề, mục đích và nguồn của dữ liệu?"
   ]
  },
  {
   "attachments": {},
   "cell_type": "markdown",
   "metadata": {},
   "source": [
    "- **Chủ đề**: Giá thuê chung cư ở thành phố Hồ Chí Minh"
   ]
  },
  {
   "attachments": {},
   "cell_type": "markdown",
   "metadata": {},
   "source": [
    "- **Mục đích**: Dựa vào nhu cầu sử dụng và khả năng tài chính, người dùng có thể khai thác các thông tin có ích trong tập dữ liệu để tìm được căn nhà như mong muốn của mình tại ở chung cư Hồ Chí Minh"
   ]
  },
  {
   "attachments": {},
   "cell_type": "markdown",
   "metadata": {},
   "source": [
    "- **Nguồn**: Dữ liệu được crawl từ website mua giới [nhatot.vn](https://www.nhatot.com/thue-can-ho-chung-cu-tp-ho-chi-minh) - website môi giới phổ biến trong lĩnh vực bất động sản ở Việt Nam."
   ]
  },
  {
   "cell_type": "markdown",
   "metadata": {
    "collapsed": false
   },
   "source": [
    "### 1.2. Người ta có cho phép sử dụng dữ liệu như thế này hay không?"
   ]
  },
  {
   "attachments": {},
   "cell_type": "markdown",
   "metadata": {
    "collapsed": false
   },
   "source": [
    "- Sau khi tìm hiểu các điều khoản của website, chotot không có quy định cụ thể về việc sử dụng dữ liệu được mua bán được công khai cho người dùng ở website. \n",
    "- Tuy nhiên, tập dữ liệu là các thông tin được chotot công bố cho toàn bộ người dùng (public api), project này chỉ dành cho mục đích học tập, không có mục đích thương mại, do đó có chúng ta có thể sử dụng tập dữ liệu trong project này."
   ]
  },
  {
   "cell_type": "markdown",
   "metadata": {
    "collapsed": false
   },
   "source": [
    "### 1.3. Thu thập dữ liệu này như thế nào?"
   ]
  },
  {
   "attachments": {},
   "cell_type": "markdown",
   "metadata": {
    "collapsed": false
   },
   "source": [
    "+ Dữ liệu được crawl từ toàn bộ trang web [nhatot.vn](https://www.nhatot.com/thue-can-ho-chung-cu-tp-ho-chi-minh), bao gồm toàn bộ 1000 trang nhỏ, thu về gần 20000 mẫu dữ liệu.\n",
    "+ Chi tiết về cách crawl được mô tả ở file notebook [`Crawl-data.ipynb`](./Crawl-data.ipynb)"
   ]
  },
  {
   "cell_type": "markdown",
   "metadata": {
    "collapsed": false
   },
   "source": [
    "## 2. Khám phá dữ liệu"
   ]
  },
  {
   "cell_type": "markdown",
   "metadata": {
    "collapsed": false
   },
   "source": [
    "### 2.1. Đọc dữ liệu"
   ]
  },
  {
   "cell_type": "code",
   "execution_count": 5,
   "metadata": {
    "collapsed": false
   },
   "outputs": [
    {
     "data": {
      "text/html": [
       "<div>\n",
       "<style scoped>\n",
       "    .dataframe tbody tr th:only-of-type {\n",
       "        vertical-align: middle;\n",
       "    }\n",
       "\n",
       "    .dataframe tbody tr th {\n",
       "        vertical-align: top;\n",
       "    }\n",
       "\n",
       "    .dataframe thead th {\n",
       "        text-align: right;\n",
       "    }\n",
       "</style>\n",
       "<table border=\"1\" class=\"dataframe\">\n",
       "  <thead>\n",
       "    <tr style=\"text-align: right;\">\n",
       "      <th></th>\n",
       "      <th>ad_id</th>\n",
       "      <th>list_id</th>\n",
       "      <th>list_time</th>\n",
       "      <th>subject</th>\n",
       "      <th>body</th>\n",
       "      <th>price</th>\n",
       "      <th>price_string</th>\n",
       "      <th>size</th>\n",
       "      <th>rooms</th>\n",
       "      <th>toilets</th>\n",
       "      <th>...</th>\n",
       "      <th>region_name</th>\n",
       "      <th>ward_name</th>\n",
       "      <th>street_name</th>\n",
       "      <th>deposit</th>\n",
       "      <th>zero_deposit</th>\n",
       "      <th>longitude</th>\n",
       "      <th>latitude</th>\n",
       "      <th>owner</th>\n",
       "      <th>company_ad</th>\n",
       "      <th>apartment_type</th>\n",
       "    </tr>\n",
       "  </thead>\n",
       "  <tbody>\n",
       "    <tr>\n",
       "      <th>0</th>\n",
       "      <td>139905225</td>\n",
       "      <td>101449743</td>\n",
       "      <td>1669427357000</td>\n",
       "      <td>Căn hộ CMT8 Q10, Cửa sổ, Máy giặt riêng, Gác</td>\n",
       "      <td>Căn hộ Cách Mạng Tháng 8 Q10, Cửa sổ, Máy giặt...</td>\n",
       "      <td>9000000.0</td>\n",
       "      <td>9 triệu/tháng</td>\n",
       "      <td>30.0</td>\n",
       "      <td>1</td>\n",
       "      <td>1.0</td>\n",
       "      <td>...</td>\n",
       "      <td>Tp Hồ Chí Minh</td>\n",
       "      <td>Phường 13</td>\n",
       "      <td>Hẻm 499 Cách Mạng Tháng 8</td>\n",
       "      <td>0</td>\n",
       "      <td>False</td>\n",
       "      <td>106.67245</td>\n",
       "      <td>10.78176</td>\n",
       "      <td>False</td>\n",
       "      <td>True</td>\n",
       "      <td>Căn hộ dịch vụ</td>\n",
       "    </tr>\n",
       "    <tr>\n",
       "      <th>1</th>\n",
       "      <td>140064167</td>\n",
       "      <td>101580825</td>\n",
       "      <td>1669783016000</td>\n",
       "      <td>Căn Hộ 1PN _ Kcx Tân Thuận chợ UFM sát Quận 4🌈</td>\n",
       "      <td>⭐️Sắp hết tháng rồi khách đã tìm được phòng ch...</td>\n",
       "      <td>5700000.0</td>\n",
       "      <td>5,7 triệu/tháng</td>\n",
       "      <td>37.0</td>\n",
       "      <td>1</td>\n",
       "      <td>1.0</td>\n",
       "      <td>...</td>\n",
       "      <td>Tp Hồ Chí Minh</td>\n",
       "      <td>Phường Bình Thuận</td>\n",
       "      <td>Đường Lý Phục Man</td>\n",
       "      <td>0</td>\n",
       "      <td>False</td>\n",
       "      <td>106.72563</td>\n",
       "      <td>10.74310</td>\n",
       "      <td>False</td>\n",
       "      <td>True</td>\n",
       "      <td>Căn hộ dịch vụ</td>\n",
       "    </tr>\n",
       "    <tr>\n",
       "      <th>2</th>\n",
       "      <td>139905234</td>\n",
       "      <td>101449753</td>\n",
       "      <td>1669427371000</td>\n",
       "      <td>KHAI TRƯƠNG CĂN HỘ BANCOL FULL NỘI THẤT</td>\n",
       "      <td>Cho thuê căn hộ\\n_Vị trí : đường Thạch Lam p.p...</td>\n",
       "      <td>4500000.0</td>\n",
       "      <td>4,5 triệu/tháng</td>\n",
       "      <td>35.0</td>\n",
       "      <td>1</td>\n",
       "      <td>1.0</td>\n",
       "      <td>...</td>\n",
       "      <td>Tp Hồ Chí Minh</td>\n",
       "      <td>Phường Phú Thạnh</td>\n",
       "      <td>Đường Thạch Lam</td>\n",
       "      <td>0</td>\n",
       "      <td>False</td>\n",
       "      <td>106.62711</td>\n",
       "      <td>10.77815</td>\n",
       "      <td>False</td>\n",
       "      <td>True</td>\n",
       "      <td>Căn hộ dịch vụ</td>\n",
       "    </tr>\n",
       "    <tr>\n",
       "      <th>3</th>\n",
       "      <td>140064185</td>\n",
       "      <td>101580839</td>\n",
       "      <td>1669783034000</td>\n",
       "      <td>Căn hộ ban công lớn cực Chill_Ngay Điện Biên Phủ</td>\n",
       "      <td>📣📣 HỆ THỐNG CĂN HỘ STUDIO, 1PN CÒN TRỐNG, FULL...</td>\n",
       "      <td>11000000.0</td>\n",
       "      <td>11 triệu/tháng</td>\n",
       "      <td>45.0</td>\n",
       "      <td>1</td>\n",
       "      <td>1.0</td>\n",
       "      <td>...</td>\n",
       "      <td>Tp Hồ Chí Minh</td>\n",
       "      <td>Phường 17</td>\n",
       "      <td>Hẻm 372 Điện Biên Phủ</td>\n",
       "      <td>0</td>\n",
       "      <td>False</td>\n",
       "      <td>106.70816</td>\n",
       "      <td>10.79913</td>\n",
       "      <td>False</td>\n",
       "      <td>True</td>\n",
       "      <td>Chung cư</td>\n",
       "    </tr>\n",
       "    <tr>\n",
       "      <th>4</th>\n",
       "      <td>140064089</td>\n",
       "      <td>101580840</td>\n",
       "      <td>1669783039000</td>\n",
       "      <td>Cho thuê CHDV ngay Bình Thạnh gần Thảo Cầm Viên</td>\n",
       "      <td>𝗧𝗿𝗼̂́𝗻𝗴 𝘀𝗮̆̃𝗻 𝗖𝗛𝗗𝗩 𝗦𝘁𝘂𝗱𝗶𝗼 𝗼̛̉ 𝗱𝘂̛𝗼̛̣𝗰 𝗹𝗶𝗲̂̀𝗻 𝗴...</td>\n",
       "      <td>5800000.0</td>\n",
       "      <td>5,8 triệu/tháng</td>\n",
       "      <td>30.0</td>\n",
       "      <td>1</td>\n",
       "      <td>1.0</td>\n",
       "      <td>...</td>\n",
       "      <td>Tp Hồ Chí Minh</td>\n",
       "      <td>Phường 19</td>\n",
       "      <td>Đường Nguyễn Ngọc Phương</td>\n",
       "      <td>1</td>\n",
       "      <td>False</td>\n",
       "      <td>106.70789</td>\n",
       "      <td>10.79040</td>\n",
       "      <td>False</td>\n",
       "      <td>True</td>\n",
       "      <td>Căn hộ dịch vụ</td>\n",
       "    </tr>\n",
       "  </tbody>\n",
       "</table>\n",
       "<p>5 rows × 21 columns</p>\n",
       "</div>"
      ],
      "text/plain": [
       "       ad_id    list_id      list_time  \\\n",
       "0  139905225  101449743  1669427357000   \n",
       "1  140064167  101580825  1669783016000   \n",
       "2  139905234  101449753  1669427371000   \n",
       "3  140064185  101580839  1669783034000   \n",
       "4  140064089  101580840  1669783039000   \n",
       "\n",
       "                                            subject  \\\n",
       "0      Căn hộ CMT8 Q10, Cửa sổ, Máy giặt riêng, Gác   \n",
       "1    Căn Hộ 1PN _ Kcx Tân Thuận chợ UFM sát Quận 4🌈   \n",
       "2           KHAI TRƯƠNG CĂN HỘ BANCOL FULL NỘI THẤT   \n",
       "3  Căn hộ ban công lớn cực Chill_Ngay Điện Biên Phủ   \n",
       "4   Cho thuê CHDV ngay Bình Thạnh gần Thảo Cầm Viên   \n",
       "\n",
       "                                                body       price  \\\n",
       "0  Căn hộ Cách Mạng Tháng 8 Q10, Cửa sổ, Máy giặt...   9000000.0   \n",
       "1  ⭐️Sắp hết tháng rồi khách đã tìm được phòng ch...   5700000.0   \n",
       "2  Cho thuê căn hộ\\n_Vị trí : đường Thạch Lam p.p...   4500000.0   \n",
       "3  📣📣 HỆ THỐNG CĂN HỘ STUDIO, 1PN CÒN TRỐNG, FULL...  11000000.0   \n",
       "4  𝗧𝗿𝗼̂́𝗻𝗴 𝘀𝗮̆̃𝗻 𝗖𝗛𝗗𝗩 𝗦𝘁𝘂𝗱𝗶𝗼 𝗼̛̉ 𝗱𝘂̛𝗼̛̣𝗰 𝗹𝗶𝗲̂̀𝗻 𝗴...   5800000.0   \n",
       "\n",
       "      price_string  size  rooms  toilets  ...     region_name  \\\n",
       "0    9 triệu/tháng  30.0      1      1.0  ...  Tp Hồ Chí Minh   \n",
       "1  5,7 triệu/tháng  37.0      1      1.0  ...  Tp Hồ Chí Minh   \n",
       "2  4,5 triệu/tháng  35.0      1      1.0  ...  Tp Hồ Chí Minh   \n",
       "3   11 triệu/tháng  45.0      1      1.0  ...  Tp Hồ Chí Minh   \n",
       "4  5,8 triệu/tháng  30.0      1      1.0  ...  Tp Hồ Chí Minh   \n",
       "\n",
       "           ward_name                street_name deposit  zero_deposit  \\\n",
       "0          Phường 13  Hẻm 499 Cách Mạng Tháng 8       0         False   \n",
       "1  Phường Bình Thuận          Đường Lý Phục Man       0         False   \n",
       "2   Phường Phú Thạnh            Đường Thạch Lam       0         False   \n",
       "3          Phường 17      Hẻm 372 Điện Biên Phủ       0         False   \n",
       "4          Phường 19   Đường Nguyễn Ngọc Phương       1         False   \n",
       "\n",
       "   longitude  latitude  owner  company_ad  apartment_type  \n",
       "0  106.67245  10.78176  False        True  Căn hộ dịch vụ  \n",
       "1  106.72563  10.74310  False        True  Căn hộ dịch vụ  \n",
       "2  106.62711  10.77815  False        True  Căn hộ dịch vụ  \n",
       "3  106.70816  10.79913  False        True        Chung cư  \n",
       "4  106.70789  10.79040  False        True  Căn hộ dịch vụ  \n",
       "\n",
       "[5 rows x 21 columns]"
      ]
     },
     "execution_count": 5,
     "metadata": {},
     "output_type": "execute_result"
    }
   ],
   "source": [
    "apartment_df = pd.read_csv(DATA_CSV)\n",
    "apartment_df.head()"
   ]
  },
  {
   "cell_type": "markdown",
   "metadata": {
    "collapsed": false
   },
   "source": [
    "### 2.2. Dữ liệu có bao nhiêu dòng và bao nhiêu cột?"
   ]
  },
  {
   "cell_type": "code",
   "execution_count": 6,
   "metadata": {
    "collapsed": false
   },
   "outputs": [
    {
     "data": {
      "text/plain": [
       "(19911, 21)"
      ]
     },
     "execution_count": 6,
     "metadata": {},
     "output_type": "execute_result"
    }
   ],
   "source": [
    "apartment_df.shape"
   ]
  },
  {
   "attachments": {},
   "cell_type": "markdown",
   "metadata": {
    "collapsed": false
   },
   "source": [
    "Dữ liệu gồm 19996 dòng, mỗi dòng gồm 20 cột."
   ]
  },
  {
   "attachments": {},
   "cell_type": "markdown",
   "metadata": {
    "collapsed": false
   },
   "source": [
    "### 2.3. Mỗi dòng có ý nghĩa gì? Có vấn đề các dòng có ý nghĩa khác nhau không?\n",
    "\n",
    "- Mỗi dòng là thông tin cho thuê của một căn hộ như giá thuê, diện tích, số phòng, số nhà vệ sinh, địa chỉ, ...\n",
    "- Do số lượng các dòng quá lớn nên không thể chắc chắn được có các dòng với ý nghĩa khác nhau. Tuy nhiên:\n",
    "  - Một số cột thông tin có thể chắc chắn không xảy ra vấn đề đó do dữ liệu được đảm bảo đồng nhất khi người dùng nhập như: rooms, toilets, body, street_name, ward_name, area_name, region_name, ...\n",
    "   - Một số thông tin do người dùng tự nhập không đảm bảo được tính đồng nhất như: subject, body, ..."
   ]
  },
  {
   "cell_type": "markdown",
   "metadata": {
    "collapsed": false
   },
   "source": [
    "### 2.4. Mỗi cột có ý nghĩa gì?"
   ]
  },
  {
   "cell_type": "markdown",
   "metadata": {
    "collapsed": false
   },
   "source": [
    "Dưới đây là phần mô tả về các cột:\n",
    "\n",
    "| Column         | Description                                |\n",
    "|----------------|--------------------------------------------|\n",
    "| ad_id          | id của tin (để phân biệt)                  |\n",
    "| list_id        | id trong danh sách ads (dùng để phân biệt) |\n",
    "| list_time      | Thời gian đăng tin                         |\n",
    "| price          | Giá thuê (VND)                             |\n",
    "| price_string   | Giá thuê (triệu / tháng) cho dễ nhìn       |\n",
    "| size           | Diện tích (m2)                             |\n",
    "| rooms          | Số phòng                                   |\n",
    "| toilets        | Số nhà vệ sinh                             |\n",
    "| body           | Mô tả                                      |\n",
    "| street_name    | Đường                                      |\n",
    "| ward_name      | Phường                                     |\n",
    "| area_name      | Quận huyện                                 |\n",
    "| region_name    | Thành phố, tỉnh                            |\n",
    "| zero_deposit   | Có cần tiền cọc không?                     |\n",
    "| deposit        | Tiền cọc                                   |\n",
    "| longitude      | Kinh độ                                    |\n",
    "| latitude       | Vĩ độ                                      |\n",
    "| owner          | Có phải chủ nhà không?                     |\n",
    "| company_ad     | Tin của các nhân hay công ty               |\n",
    "| apartment_type | Kiểu căn hộ / chung cư                     |"
   ]
  },
  {
   "cell_type": "markdown",
   "metadata": {
    "collapsed": false
   },
   "source": [
    "### 2.4. Kiểm tra dữ liệu có bị trùng lặp không?"
   ]
  },
  {
   "cell_type": "code",
   "execution_count": 7,
   "metadata": {
    "collapsed": false
   },
   "outputs": [
    {
     "data": {
      "text/plain": [
       "0"
      ]
     },
     "execution_count": 7,
     "metadata": {},
     "output_type": "execute_result"
    }
   ],
   "source": [
    "apartment_df.duplicated().sum()"
   ]
  },
  {
   "attachments": {},
   "cell_type": "markdown",
   "metadata": {
    "collapsed": false
   },
   "source": [
    "Dữ liệu thu thập được không bị trùng lặp"
   ]
  },
  {
   "cell_type": "markdown",
   "metadata": {
    "collapsed": false
   },
   "source": [
    "### 2.5. Mỗi cột hiện đang có kiểu dữ liệu gì? Có cột nào có kiểu dữ liệu chưa phù hợp để có thể xử lý tiếp không?"
   ]
  },
  {
   "cell_type": "code",
   "execution_count": 8,
   "metadata": {
    "collapsed": false
   },
   "outputs": [
    {
     "name": "stdout",
     "output_type": "stream",
     "text": [
      "<class 'pandas.core.frame.DataFrame'>\n",
      "RangeIndex: 19911 entries, 0 to 19910\n",
      "Data columns (total 21 columns):\n",
      " #   Column          Non-Null Count  Dtype  \n",
      "---  ------          --------------  -----  \n",
      " 0   ad_id           19911 non-null  int64  \n",
      " 1   list_id         19911 non-null  int64  \n",
      " 2   list_time       19911 non-null  int64  \n",
      " 3   subject         19911 non-null  object \n",
      " 4   body            19911 non-null  object \n",
      " 5   price           19897 non-null  float64\n",
      " 6   price_string    19897 non-null  object \n",
      " 7   size            19910 non-null  float64\n",
      " 8   rooms           19911 non-null  int64  \n",
      " 9   toilets         19904 non-null  float64\n",
      " 10  area_name       19903 non-null  object \n",
      " 11  region_name     19911 non-null  object \n",
      " 12  ward_name       19899 non-null  object \n",
      " 13  street_name     19696 non-null  object \n",
      " 14  deposit         19911 non-null  int64  \n",
      " 15  zero_deposit    19911 non-null  bool   \n",
      " 16  longitude       19904 non-null  float64\n",
      " 17  latitude        19904 non-null  float64\n",
      " 18  owner           19911 non-null  bool   \n",
      " 19  company_ad      19911 non-null  bool   \n",
      " 20  apartment_type  19911 non-null  object \n",
      "dtypes: bool(3), float64(5), int64(5), object(8)\n",
      "memory usage: 2.8+ MB\n"
     ]
    }
   ],
   "source": [
    "apartment_df.info()"
   ]
  },
  {
   "attachments": {},
   "cell_type": "markdown",
   "metadata": {
    "collapsed": false
   },
   "source": [
    "- Nhận thấy một số vấn đè như sau:\n",
    "  + Cột `toilets`, `price` là số nhà vệ sinh nên có kiểu dữ liệu `int64`\n",
    "  + Cột `list_time` là thời gian đăng tin nên có kiểu `datetime`\n",
    "  + Cột `ad_id`, `list_id`, `company_ad`, sẽ không còn cần thiết\n",
    "  + Cột `size`, `price`, `toilets`, `area_name` có bị thiếu nên ta sẽ loại bỏ những dòng thiếu này"
   ]
  },
  {
   "cell_type": "code",
   "execution_count": 9,
   "metadata": {
    "collapsed": false
   },
   "outputs": [],
   "source": [
    "# convert timestamp in milisecond to datetime\n",
    "apartment_df['list_time'] = pd.to_datetime(apartment_df['list_time'], unit='ms')"
   ]
  },
  {
   "cell_type": "code",
   "execution_count": 10,
   "metadata": {
    "collapsed": false
   },
   "outputs": [
    {
     "data": {
      "text/plain": [
       "(19676, 18)"
      ]
     },
     "execution_count": 10,
     "metadata": {},
     "output_type": "execute_result"
    }
   ],
   "source": [
    "# drop missing value\n",
    "apartment_df = apartment_df.dropna()\n",
    "# drop not used column\n",
    "apartment_df = apartment_df.drop(['ad_id', 'list_id', 'company_ad'], axis=1)\n",
    "apartment_df.shape"
   ]
  },
  {
   "attachments": {},
   "cell_type": "markdown",
   "metadata": {
    "collapsed": false
   },
   "source": [
    "Sau khi loại bỏ các cột không sử dụng và các dòng rỗng, tập dữ liệu còn lại 19873 dòng, mỗi dòng gồm 18 cột."
   ]
  },
  {
   "cell_type": "code",
   "execution_count": 11,
   "metadata": {
    "collapsed": false
   },
   "outputs": [],
   "source": [
    "# convert float64 to int64\n",
    "apartment_df['toilets'] = apartment_df['toilets'].apply(np.int64)\n",
    "apartment_df['price'] = apartment_df['price'].apply(np.int64)"
   ]
  },
  {
   "cell_type": "code",
   "execution_count": 12,
   "metadata": {
    "collapsed": false
   },
   "outputs": [
    {
     "name": "stdout",
     "output_type": "stream",
     "text": [
      "<class 'pandas.core.frame.DataFrame'>\n",
      "Int64Index: 19676 entries, 0 to 19910\n",
      "Data columns (total 18 columns):\n",
      " #   Column          Non-Null Count  Dtype         \n",
      "---  ------          --------------  -----         \n",
      " 0   list_time       19676 non-null  datetime64[ns]\n",
      " 1   subject         19676 non-null  object        \n",
      " 2   body            19676 non-null  object        \n",
      " 3   price           19676 non-null  int64         \n",
      " 4   price_string    19676 non-null  object        \n",
      " 5   size            19676 non-null  float64       \n",
      " 6   rooms           19676 non-null  int64         \n",
      " 7   toilets         19676 non-null  int64         \n",
      " 8   area_name       19676 non-null  object        \n",
      " 9   region_name     19676 non-null  object        \n",
      " 10  ward_name       19676 non-null  object        \n",
      " 11  street_name     19676 non-null  object        \n",
      " 12  deposit         19676 non-null  int64         \n",
      " 13  zero_deposit    19676 non-null  bool          \n",
      " 14  longitude       19676 non-null  float64       \n",
      " 15  latitude        19676 non-null  float64       \n",
      " 16  owner           19676 non-null  bool          \n",
      " 17  apartment_type  19676 non-null  object        \n",
      "dtypes: bool(2), datetime64[ns](1), float64(3), int64(4), object(8)\n",
      "memory usage: 2.6+ MB\n"
     ]
    }
   ],
   "source": [
    "apartment_df.info()"
   ]
  },
  {
   "cell_type": "markdown",
   "metadata": {
    "collapsed": false
   },
   "source": [
    "### 2.6. Với mỗi cột có kiểu dữ liệu numeric, các giá trị được phân bố như thế nào?"
   ]
  },
  {
   "cell_type": "code",
   "execution_count": 13,
   "metadata": {
    "collapsed": false
   },
   "outputs": [
    {
     "data": {
      "text/html": [
       "<div>\n",
       "<style scoped>\n",
       "    .dataframe tbody tr th:only-of-type {\n",
       "        vertical-align: middle;\n",
       "    }\n",
       "\n",
       "    .dataframe tbody tr th {\n",
       "        vertical-align: top;\n",
       "    }\n",
       "\n",
       "    .dataframe thead th {\n",
       "        text-align: right;\n",
       "    }\n",
       "</style>\n",
       "<table border=\"1\" class=\"dataframe\">\n",
       "  <thead>\n",
       "    <tr style=\"text-align: right;\">\n",
       "      <th></th>\n",
       "      <th>price</th>\n",
       "      <th>size</th>\n",
       "      <th>rooms</th>\n",
       "      <th>toilets</th>\n",
       "      <th>deposit</th>\n",
       "    </tr>\n",
       "  </thead>\n",
       "  <tbody>\n",
       "    <tr>\n",
       "      <th>count</th>\n",
       "      <td>19,676</td>\n",
       "      <td>19,676</td>\n",
       "      <td>19,676</td>\n",
       "      <td>19,676</td>\n",
       "      <td>19,676</td>\n",
       "    </tr>\n",
       "    <tr>\n",
       "      <th>mean</th>\n",
       "      <td>27,179,492</td>\n",
       "      <td>64</td>\n",
       "      <td>2</td>\n",
       "      <td>1</td>\n",
       "      <td>10,356,813</td>\n",
       "    </tr>\n",
       "    <tr>\n",
       "      <th>std</th>\n",
       "      <td>622,224,013</td>\n",
       "      <td>1,070</td>\n",
       "      <td>1</td>\n",
       "      <td>1</td>\n",
       "      <td>319,744,251</td>\n",
       "    </tr>\n",
       "    <tr>\n",
       "      <th>min</th>\n",
       "      <td>500,000</td>\n",
       "      <td>2</td>\n",
       "      <td>1</td>\n",
       "      <td>1</td>\n",
       "      <td>0</td>\n",
       "    </tr>\n",
       "    <tr>\n",
       "      <th>25%</th>\n",
       "      <td>6,000,000</td>\n",
       "      <td>35</td>\n",
       "      <td>1</td>\n",
       "      <td>1</td>\n",
       "      <td>0</td>\n",
       "    </tr>\n",
       "    <tr>\n",
       "      <th>50%</th>\n",
       "      <td>8,000,000</td>\n",
       "      <td>51</td>\n",
       "      <td>1</td>\n",
       "      <td>1</td>\n",
       "      <td>0</td>\n",
       "    </tr>\n",
       "    <tr>\n",
       "      <th>75%</th>\n",
       "      <td>12,500,000</td>\n",
       "      <td>72</td>\n",
       "      <td>2</td>\n",
       "      <td>2</td>\n",
       "      <td>7,500,000</td>\n",
       "    </tr>\n",
       "    <tr>\n",
       "      <th>max</th>\n",
       "      <td>70,000,000,000</td>\n",
       "      <td>150,000</td>\n",
       "      <td>11</td>\n",
       "      <td>7</td>\n",
       "      <td>38,000,000,000</td>\n",
       "    </tr>\n",
       "  </tbody>\n",
       "</table>\n",
       "</div>"
      ],
      "text/plain": [
       "               price    size  rooms  toilets        deposit\n",
       "count         19,676  19,676 19,676   19,676         19,676\n",
       "mean      27,179,492      64      2        1     10,356,813\n",
       "std      622,224,013   1,070      1        1    319,744,251\n",
       "min          500,000       2      1        1              0\n",
       "25%        6,000,000      35      1        1              0\n",
       "50%        8,000,000      51      1        1              0\n",
       "75%       12,500,000      72      2        2      7,500,000\n",
       "max   70,000,000,000 150,000     11        7 38,000,000,000"
      ]
     },
     "execution_count": 13,
     "metadata": {},
     "output_type": "execute_result"
    }
   ],
   "source": [
    "pd.set_option('display.float_format',  '{:,.0f}'.format)\n",
    "\n",
    "numeric_cols = ['price', 'size', 'rooms', 'toilets', 'deposit']\n",
    "apartment_df[numeric_cols].describe()"
   ]
  },
  {
   "attachments": {},
   "cell_type": "markdown",
   "metadata": {
    "collapsed": false
   },
   "source": [
    "- Dựa vào giá trị min và max của `price`, `size`, `deposit` rút ra một số vấn đề:\n",
    "   - Các căn hộ chung cư có diện tích 2 $m^2$ là không thực tế để có thể sinh hoạt $\\Rightarrow$  có thể là tin rác.\n",
    "   - Các căn hộ chung cư có diện tích 150000 $m^2$ hoặc giá thuê 70 tỷ/tháng hoặc cọc 38 tỷ $\\Rightarrow$ có thể là bán là đất nền nhưng đăng nhầm qua cho thuê chung cư.\n"
   ]
  },
  {
   "attachments": {},
   "cell_type": "markdown",
   "metadata": {},
   "source": [
    "- Các cột còn lại phân bố bình thường:\n",
    "   - `rooms` có giá trị từ 1 -> 11\n",
    "   - `toilets` có giá trị từ 1 -> 7"
   ]
  },
  {
   "attachments": {},
   "cell_type": "markdown",
   "metadata": {},
   "source": [
    "- Vì mục tiêu tìm hiểu giá chung cư phù hợp với thực tế sử dụng, ta sẽ loại bỏ đi những căn hộ có:\n",
    "    - Giá dưới 500 nghìn đồng\n",
    "    - Giá trên 100 triệu đồng\n",
    "    - Diện tích dưới 10 $m^2$"
   ]
  },
  {
   "cell_type": "code",
   "execution_count": 14,
   "metadata": {
    "collapsed": false
   },
   "outputs": [
    {
     "data": {
      "text/plain": [
       "(19612, 18)"
      ]
     },
     "execution_count": 14,
     "metadata": {},
     "output_type": "execute_result"
    }
   ],
   "source": [
    "index = apartment_df[(apartment_df['price'] < 500000) | (apartment_df['price'] > 100000000) | (apartment_df['size'] < 10)].index\n",
    "apartment_df.drop(index, inplace=True)\n",
    "\n",
    "apartment_df.shape"
   ]
  },
  {
   "cell_type": "markdown",
   "metadata": {
    "collapsed": false
   },
   "source": [
    "### 2.7. Với mỗi cột có kiểu dữ liệu categorical, các giá trị được phân bố như thế nào?"
   ]
  },
  {
   "cell_type": "markdown",
   "metadata": {
    "collapsed": false
   },
   "source": [
    "#### Cột **region_name**"
   ]
  },
  {
   "cell_type": "code",
   "execution_count": 15,
   "metadata": {
    "collapsed": false
   },
   "outputs": [
    {
     "data": {
      "text/plain": [
       "Tp Hồ Chí Minh    19612\n",
       "Name: region_name, dtype: int64"
      ]
     },
     "execution_count": 15,
     "metadata": {},
     "output_type": "execute_result"
    }
   ],
   "source": [
    "apartment_df['region_name'].value_counts()"
   ]
  },
  {
   "attachments": {},
   "cell_type": "markdown",
   "metadata": {
    "collapsed": false
   },
   "source": [
    "Do ta chỉ xem xét ở TP HCM nên cột này chỉ có duy nhất một giá trị, loại bỏ cột này"
   ]
  },
  {
   "cell_type": "code",
   "execution_count": 16,
   "metadata": {
    "collapsed": false
   },
   "outputs": [],
   "source": [
    "apartment_df = apartment_df.drop(['region_name'], axis=1)"
   ]
  },
  {
   "cell_type": "markdown",
   "metadata": {
    "collapsed": false
   },
   "source": [
    "#### Cột **area_name**"
   ]
  },
  {
   "cell_type": "code",
   "execution_count": 17,
   "metadata": {
    "collapsed": false
   },
   "outputs": [
    {
     "data": {
      "text/plain": [
       "<AxesSubplot:title={'center':'Distribution of area_name'}>"
      ]
     },
     "execution_count": 17,
     "metadata": {},
     "output_type": "execute_result"
    },
    {
     "data": {
      "image/png": "[encoded data removed]",
      "text/plain": [
       "<Figure size 640x480 with 1 Axes>"
      ]
     },
     "metadata": {},
     "output_type": "display_data"
    }
   ],
   "source": [
    "area = apartment_df['area_name'].value_counts()\n",
    "area.plot.bar(title='Distribution of area_name')"
   ]
  },
  {
   "attachments": {},
   "cell_type": "markdown",
   "metadata": {
    "collapsed": false
   },
   "source": [
    "Trên đây là phân bố căn hộ cho thuê theo quận sắp xếp theo số lượn giảm dần:\n",
    "+ Nhiều nhất là quận 7 với hơn 3 nghìn tin cho thuê, tiếp theo là thành phố Đức (quận Thủ Đức + quận 9 + quận 2) diện tích rất lớn nhưng vẫn ít phòng cho thuê hơn quận 7\n",
    "+ Huyện Hóc Môn xếp bét bảng với chỉ 4 tin, do các huyện này ở xa trung tâm nên nhu cầu thuê nhà ít."
   ]
  },
  {
   "cell_type": "markdown",
   "metadata": {
    "collapsed": false
   },
   "source": [
    "#### Cột **owner**"
   ]
  },
  {
   "cell_type": "code",
   "execution_count": 18,
   "metadata": {
    "collapsed": false
   },
   "outputs": [
    {
     "data": {
      "text/plain": [
       "False    19612\n",
       "Name: owner, dtype: int64"
      ]
     },
     "execution_count": 18,
     "metadata": {},
     "output_type": "execute_result"
    }
   ],
   "source": [
    "apartment_df['owner'].value_counts()"
   ]
  },
  {
   "attachments": {},
   "cell_type": "markdown",
   "metadata": {
    "collapsed": false
   },
   "source": [
    "Tất cả đều là False, có nghĩa là không có chủ nhà nào đăng tin cho thuê, tất cả đều là môi giới, nếu thuê thì sẽ khó thương lượng giảm giá với chủ nhà đuợc vì họ thường phải trả cho môi giới một khoản phí. Do đó ta sẽ loại bỏ cột này."
   ]
  },
  {
   "cell_type": "code",
   "execution_count": 19,
   "metadata": {
    "collapsed": false
   },
   "outputs": [],
   "source": [
    "apartment_df = apartment_df.drop(['owner'], axis=1)"
   ]
  },
  {
   "cell_type": "markdown",
   "metadata": {
    "collapsed": false
   },
   "source": [
    "#### Cột **apartment_type**"
   ]
  },
  {
   "cell_type": "code",
   "execution_count": 20,
   "metadata": {
    "collapsed": false
   },
   "outputs": [
    {
     "name": "stdout",
     "output_type": "stream",
     "text": [
      "(18605, 16)\n"
     ]
    },
    {
     "data": {
      "text/plain": [
       "<AxesSubplot:title={'center':'Number of apartments per type'}>"
      ]
     },
     "execution_count": 20,
     "metadata": {},
     "output_type": "execute_result"
    },
    {
     "data": {
      "image/png": "[encoded data removed]",
      "text/plain": [
       "<Figure size 640x480 with 1 Axes>"
      ]
     },
     "metadata": {},
     "output_type": "display_data"
    }
   ],
   "source": [
    "apartment_df = apartment_df[(apartment_df['apartment_type'] == 'Chung cư') | (apartment_df['apartment_type'] == 'Căn hộ dịch vụ')]\n",
    "\n",
    "print(apartment_df.shape)\n",
    "\n",
    "type = apartment_df['apartment_type'].value_counts()\n",
    "\n",
    "type.plot.bar(title=\"Number of apartments per type\")"
   ]
  },
  {
   "cell_type": "markdown",
   "metadata": {
    "collapsed": false
   },
   "source": [
    "+ Sau khi lọc, chỉ còn 18605 dòng\n",
    "+ Đa số là căn hộ chung cư, gần gấp đôi số căn hộ dịch vụ"
   ]
  },
  {
   "cell_type": "markdown",
   "metadata": {
    "collapsed": false
   },
   "source": [
    "#### Cột **zero_deposit**"
   ]
  },
  {
   "cell_type": "code",
   "execution_count": 21,
   "metadata": {
    "collapsed": false
   },
   "outputs": [
    {
     "data": {
      "text/plain": [
       "False    18602\n",
       "True         3\n",
       "Name: zero_deposit, dtype: int64"
      ]
     },
     "execution_count": 21,
     "metadata": {},
     "output_type": "execute_result"
    }
   ],
   "source": [
    "apartment_df['zero_deposit'].value_counts()"
   ]
  },
  {
   "cell_type": "markdown",
   "metadata": {
    "collapsed": false
   },
   "source": [
    "Gần như chủ nhà sẽ yêu cầu tiền cọc, chủ có 4 tin không cần cọc nhưng mà khả năng cũng là do quên điền lúc tạo tin. Ta sẽ bỏ qua cột này luôn!"
   ]
  },
  {
   "cell_type": "code",
   "execution_count": 22,
   "metadata": {
    "collapsed": false
   },
   "outputs": [],
   "source": [
    "apartment_df = apartment_df.drop(['zero_deposit'], axis=1)"
   ]
  },
  {
   "cell_type": "markdown",
   "metadata": {
    "collapsed": false
   },
   "source": [
    "#### Cột **list_time**"
   ]
  },
  {
   "cell_type": "code",
   "execution_count": 23,
   "metadata": {
    "collapsed": false
   },
   "outputs": [
    {
     "data": {
      "text/plain": [
       "2022-12-02    1642\n",
       "2022-12-03    1579\n",
       "2022-12-01    1442\n",
       "2022-11-23    1295\n",
       "2022-11-30    1287\n",
       "2022-11-22    1284\n",
       "2022-11-28    1275\n",
       "2022-11-29    1261\n",
       "2022-11-24    1255\n",
       "2022-11-25    1229\n",
       "2022-11-21    1132\n",
       "2022-11-26    1067\n",
       "2022-11-19     956\n",
       "2022-11-20     843\n",
       "2022-11-27     764\n",
       "2022-11-18     294\n",
       "Name: list_time, dtype: int64"
      ]
     },
     "execution_count": 23,
     "metadata": {},
     "output_type": "execute_result"
    }
   ],
   "source": [
    "pd.to_datetime(apartment_df['list_time']).dt.date.value_counts()"
   ]
  },
  {
   "cell_type": "markdown",
   "metadata": {
    "collapsed": false
   },
   "source": [
    "Các tin được đăng từ 18/11 tới 3/12, trong khoảng 2 tuần, nên có thể coi dữ liệu là mới, tính ở thời điểm phân tích là ngày 3/12. Ta cũng có thể bỏ cột này luôn vì nó không có quá nhiều ý nghĩa khi gần nhau"
   ]
  },
  {
   "cell_type": "code",
   "execution_count": 24,
   "metadata": {
    "collapsed": false
   },
   "outputs": [],
   "source": [
    "apartment_df = apartment_df.drop(['list_time'], axis=1)"
   ]
  },
  {
   "cell_type": "markdown",
   "metadata": {
    "collapsed": false
   },
   "source": [
    "## 3. Đặt ra các câu hỏi?"
   ]
  },
  {
   "cell_type": "markdown",
   "metadata": {
    "collapsed": false
   },
   "source": [
    "### Câu 1. Giá thuê căn hộ ở các quận chênh lệch như thế nào?\n",
    "\n",
    "**Ý nghĩa**: Có cái nhìn tổng quát về giá thuê nhà tại các quận, giá theo diện tích, theo số phòng, theo loại hình để có thể xem xét và đưa ra quyết định nên thuê ở đâu, các đặc điểm của căn hộ ra sao.\n",
    "\n",
    "### Câu 2. Các yếu tố ảnh hưởng tới giá thuê nhà?\n",
    "\n",
    "**Ý nghĩa**: Để hiểu thêm về sự tương quan giữa giá thuê với các yếu tố khác như diện tích, số phòng, số nhà vệ sinh, vị trí, ...\n",
    "\n",
    "### Câu 3. Tìm một căn hộ phù hợp để thuê theo một số tiêu chí?\n",
    "\n",
    "**Ý nghĩa**: thực tế chỉ là để tham khảo chọn phòng để thuê"
   ]
  },
  {
   "cell_type": "markdown",
   "metadata": {
    "collapsed": false
   },
   "source": [
    "## 4. Phân tích dữ liệu và trả lời từng câu hỏi"
   ]
  },
  {
   "cell_type": "markdown",
   "metadata": {
    "collapsed": false
   },
   "source": [
    "### Câu 1: Giá thuê căn hộ ở các quận chênh lệch như thế nào?"
   ]
  },
  {
   "cell_type": "markdown",
   "metadata": {
    "collapsed": false
   },
   "source": [
    "Ta sẽ tổng hợp lại dữ liệu theo các quận, rồi tìm ra min-max và avg price theo số phòng, min-max theo size"
   ]
  },
  {
   "cell_type": "code",
   "execution_count": 25,
   "metadata": {
    "collapsed": false
   },
   "outputs": [],
   "source": [
    "pd.set_option('display.float_format',  '{:,.0f}'.format)\n",
    "\n",
    "res = apartment_df.groupby(['area_name']).agg({ 'price': ['min', 'max', 'mean'] })\n"
   ]
  },
  {
   "cell_type": "code",
   "execution_count": 26,
   "metadata": {},
   "outputs": [
    {
     "name": "stdout",
     "output_type": "stream",
     "text": [
      "Mean, min, and max price grouped by area_name, order ascending by mean\n",
      "                     price                      \n",
      "                       min        max       mean\n",
      "area_name                                       \n",
      "Quận 4              850000   61888888 15,337,403\n",
      "Quận 1              500000   87500000 12,949,173\n",
      "Huyện Nhà Bè        800000   25000000 12,459,208\n",
      "Thành phố Thủ Đức  1400000   99200000 12,310,912\n",
      "Quận 10            3000000   55000000 11,968,211\n",
      "Quận 7             1400000  100000000 10,730,773\n",
      "Quận 11            3500000   21000000 10,505,376\n",
      "Quận Phú Nhuận     3500000   45000000 10,333,857\n",
      "Quận 5             1875000   33000000 10,179,881\n",
      "Quận 6             1000000   16000000 10,118,639\n",
      "Quận Bình Thạnh     846800  100000000  9,899,749\n",
      "Quận Tân Phú        850000   29000000  9,048,310\n",
      "Huyện Bình Chánh   1000000   20000000  9,030,544\n",
      "Quận 8             1500000   16000000  8,901,610\n",
      "Quận 3             3600000   83000000  8,893,239\n",
      "Quận Tân Bình      2600000   45000000  8,275,027\n",
      "Quận Bình Tân      2000000   41000000  8,059,236\n",
      "Quận 12             700000   27000000  7,368,990\n",
      "Quận Gò Vấp        2000000   18000000  6,319,594\n",
      "Huyện Hóc Môn      4500000    5000000  4,875,000\n"
     ]
    }
   ],
   "source": [
    "print('Mean, min, and max price grouped by area_name, order ascending by mean')\n",
    "print(res.sort_values(by=('price', 'mean'),ascending=False))"
   ]
  },
  {
   "attachments": {},
   "cell_type": "markdown",
   "metadata": {
    "collapsed": false
   },
   "source": [
    "**Nhận xét**: Quận 1 có giá thuê chung cư trung bình cao nhất (15,337,403), trong khi đó huyện Hóc Môn có giá thuê chung cư trung bình thấp nhất (4,875,000), chênh lệch hơn 10 triệu đồng"
   ]
  },
  {
   "cell_type": "code",
   "execution_count": 27,
   "metadata": {},
   "outputs": [
    {
     "name": "stdout",
     "output_type": "stream",
     "text": [
      "Mean, min, and max price grouped by area_name, order ascending by min\n",
      "                     price                      \n",
      "                       min        max       mean\n",
      "area_name                                       \n",
      "Huyện Hóc Môn      4500000    5000000  4,875,000\n",
      "Quận 3             3600000   83000000  8,893,239\n",
      "Quận Phú Nhuận     3500000   45000000 10,333,857\n",
      "Quận 11            3500000   21000000 10,505,376\n",
      "Quận 10            3000000   55000000 11,968,211\n",
      "Quận Tân Bình      2600000   45000000  8,275,027\n",
      "Quận Gò Vấp        2000000   18000000  6,319,594\n",
      "Quận Bình Tân      2000000   41000000  8,059,236\n",
      "Quận 5             1875000   33000000 10,179,881\n",
      "Quận 8             1500000   16000000  8,901,610\n",
      "Thành phố Thủ Đức  1400000   99200000 12,310,912\n",
      "Quận 7             1400000  100000000 10,730,773\n",
      "Huyện Bình Chánh   1000000   20000000  9,030,544\n",
      "Quận 6             1000000   16000000 10,118,639\n",
      "Quận 4              850000   61888888 15,337,403\n",
      "Quận Tân Phú        850000   29000000  9,048,310\n",
      "Quận Bình Thạnh     846800  100000000  9,899,749\n",
      "Huyện Nhà Bè        800000   25000000 12,459,208\n",
      "Quận 12             700000   27000000  7,368,990\n",
      "Quận 1              500000   87500000 12,949,173\n"
     ]
    }
   ],
   "source": [
    "print('Mean, min, and max price grouped by area_name, order ascending by min')\n",
    "print(res.sort_values(by=('price', 'min'),ascending=False))"
   ]
  },
  {
   "attachments": {},
   "cell_type": "markdown",
   "metadata": {
    "collapsed": false
   },
   "source": [
    "**Nhận xét**: Huyện Hóc Môn có giá thuê chung cư thấp nhất cao nhất (4500000), trong khi đó Quận 1 có giá thuê chung cư thấp nhất thấp nhất (500000), chênh lệch 4 triệu đồng"
   ]
  },
  {
   "cell_type": "code",
   "execution_count": 28,
   "metadata": {},
   "outputs": [
    {
     "name": "stdout",
     "output_type": "stream",
     "text": [
      "Mean, min, and max price grouped by area_name, order ascending by max\n",
      "                     price                      \n",
      "                       min        max       mean\n",
      "area_name                                       \n",
      "Quận 7             1400000  100000000 10,730,773\n",
      "Quận Bình Thạnh     846800  100000000  9,899,749\n",
      "Thành phố Thủ Đức  1400000   99200000 12,310,912\n",
      "Quận 1              500000   87500000 12,949,173\n",
      "Quận 3             3600000   83000000  8,893,239\n",
      "Quận 4              850000   61888888 15,337,403\n",
      "Quận 10            3000000   55000000 11,968,211\n",
      "Quận Phú Nhuận     3500000   45000000 10,333,857\n",
      "Quận Tân Bình      2600000   45000000  8,275,027\n",
      "Quận Bình Tân      2000000   41000000  8,059,236\n",
      "Quận 5             1875000   33000000 10,179,881\n",
      "Quận Tân Phú        850000   29000000  9,048,310\n",
      "Quận 12             700000   27000000  7,368,990\n",
      "Huyện Nhà Bè        800000   25000000 12,459,208\n",
      "Quận 11            3500000   21000000 10,505,376\n",
      "Huyện Bình Chánh   1000000   20000000  9,030,544\n",
      "Quận Gò Vấp        2000000   18000000  6,319,594\n",
      "Quận 8             1500000   16000000  8,901,610\n",
      "Quận 6             1000000   16000000 10,118,639\n",
      "Huyện Hóc Môn      4500000    5000000  4,875,000\n"
     ]
    }
   ],
   "source": [
    "print('Mean, min, and max price grouped by area_name, order ascending by max')\n",
    "print(res.sort_values(by=('price', 'max'),ascending=False))"
   ]
  },
  {
   "attachments": {},
   "cell_type": "markdown",
   "metadata": {},
   "source": [
    "**Nhận xét**: Quận 7 có giá thuê chung cư cao nhất cao nhất (100000000), trong khi đó huyện Hóc Môn có giá thuê chung cư cao nhất thấp nhất (5000000), chênh lệch gần 10 triệu đồng"
   ]
  },
  {
   "attachments": {},
   "cell_type": "markdown",
   "metadata": {},
   "source": [
    "### Câu 2. Các yếu tố ảnh hưởng tới giá thuê nhà?"
   ]
  },
  {
   "attachments": {},
   "cell_type": "markdown",
   "metadata": {},
   "source": [
    "**Nhật xét**: Các yếu đều ảnh hưởng tới giá nhà, tuy nhiên chúng ta sẽ thử phân tích quan hệ tương đối giữa 2 yếu tố thường được quan tâm là **diện tích** và **số phòng** của một căn chung cư số với giá thuê ở quận có nhiều căn hộ cho thuê nhất: **Quận 7**"
   ]
  },
  {
   "cell_type": "code",
   "execution_count": 29,
   "metadata": {},
   "outputs": [
    {
     "data": {
      "text/html": [
       "<div>\n",
       "<style scoped>\n",
       "    .dataframe tbody tr th:only-of-type {\n",
       "        vertical-align: middle;\n",
       "    }\n",
       "\n",
       "    .dataframe tbody tr th {\n",
       "        vertical-align: top;\n",
       "    }\n",
       "\n",
       "    .dataframe thead th {\n",
       "        text-align: right;\n",
       "    }\n",
       "</style>\n",
       "<table border=\"1\" class=\"dataframe\">\n",
       "  <thead>\n",
       "    <tr style=\"text-align: right;\">\n",
       "      <th></th>\n",
       "      <th>size</th>\n",
       "      <th>rooms</th>\n",
       "      <th>price</th>\n",
       "    </tr>\n",
       "  </thead>\n",
       "  <tbody>\n",
       "    <tr>\n",
       "      <th>1</th>\n",
       "      <td>37</td>\n",
       "      <td>1</td>\n",
       "      <td>5700000</td>\n",
       "    </tr>\n",
       "    <tr>\n",
       "      <th>12</th>\n",
       "      <td>75</td>\n",
       "      <td>3</td>\n",
       "      <td>11000000</td>\n",
       "    </tr>\n",
       "    <tr>\n",
       "      <th>14</th>\n",
       "      <td>110</td>\n",
       "      <td>3</td>\n",
       "      <td>13000000</td>\n",
       "    </tr>\n",
       "    <tr>\n",
       "      <th>25</th>\n",
       "      <td>67</td>\n",
       "      <td>2</td>\n",
       "      <td>10000000</td>\n",
       "    </tr>\n",
       "    <tr>\n",
       "      <th>45</th>\n",
       "      <td>95</td>\n",
       "      <td>3</td>\n",
       "      <td>20000000</td>\n",
       "    </tr>\n",
       "    <tr>\n",
       "      <th>...</th>\n",
       "      <td>...</td>\n",
       "      <td>...</td>\n",
       "      <td>...</td>\n",
       "    </tr>\n",
       "    <tr>\n",
       "      <th>19874</th>\n",
       "      <td>87</td>\n",
       "      <td>2</td>\n",
       "      <td>18000000</td>\n",
       "    </tr>\n",
       "    <tr>\n",
       "      <th>19875</th>\n",
       "      <td>85</td>\n",
       "      <td>3</td>\n",
       "      <td>15000000</td>\n",
       "    </tr>\n",
       "    <tr>\n",
       "      <th>19885</th>\n",
       "      <td>75</td>\n",
       "      <td>2</td>\n",
       "      <td>7500000</td>\n",
       "    </tr>\n",
       "    <tr>\n",
       "      <th>19895</th>\n",
       "      <td>70</td>\n",
       "      <td>2</td>\n",
       "      <td>12000000</td>\n",
       "    </tr>\n",
       "    <tr>\n",
       "      <th>19905</th>\n",
       "      <td>70</td>\n",
       "      <td>2</td>\n",
       "      <td>15000000</td>\n",
       "    </tr>\n",
       "  </tbody>\n",
       "</table>\n",
       "<p>3129 rows × 3 columns</p>\n",
       "</div>"
      ],
      "text/plain": [
       "       size  rooms     price\n",
       "1        37      1   5700000\n",
       "12       75      3  11000000\n",
       "14      110      3  13000000\n",
       "25       67      2  10000000\n",
       "45       95      3  20000000\n",
       "...     ...    ...       ...\n",
       "19874    87      2  18000000\n",
       "19875    85      3  15000000\n",
       "19885    75      2   7500000\n",
       "19895    70      2  12000000\n",
       "19905    70      2  15000000\n",
       "\n",
       "[3129 rows x 3 columns]"
      ]
     },
     "execution_count": 29,
     "metadata": {},
     "output_type": "execute_result"
    }
   ],
   "source": [
    "pd.set_option('display.float_format',  '{:,.0f}'.format)\n",
    "\n",
    "res = apartment_df[apartment_df['area_name'] == 'Quận 7'][['size', 'rooms', 'price']]\n",
    "\n",
    "res"
   ]
  },
  {
   "cell_type": "code",
   "execution_count": 30,
   "metadata": {},
   "outputs": [
    {
     "data": {
      "image/png": "[encoded data removed]",
      "text/plain": [
       "<Figure size 600x600 with 1 Axes>"
      ]
     },
     "metadata": {},
     "output_type": "display_data"
    }
   ],
   "source": [
    "import re, seaborn as sns\n",
    "import numpy as np\n",
    "\n",
    "from matplotlib import pyplot as plt\n",
    "from mpl_toolkits.mplot3d import Axes3D\n",
    "from matplotlib.colors import ListedColormap\n",
    "\n",
    "x = np.array(res['rooms'])\n",
    "y = np.array(res['size'])\n",
    "z = np.array(res['price'])\n",
    "\n",
    "# axes instance\n",
    "fig = plt.figure(figsize=(6,6))\n",
    "ax = Axes3D(fig, auto_add_to_figure=False)\n",
    "fig.add_axes(ax)\n",
    "\n",
    "# get colormap from seaborn\n",
    "cmap = ListedColormap(sns.color_palette(\"husl\", 256).as_hex())\n",
    "\n",
    "# plot\n",
    "sc = ax.scatter(x, y, z, s=40, c=x, marker='o', cmap=cmap, alpha=1)\n",
    "ax.set_xlabel('rooms')\n",
    "ax.set_ylabel('size')\n",
    "ax.set_zlabel('price')\n",
    "\n",
    "# save\n",
    "plt.savefig(\"scatter_hue\", bbox_inches='tight')"
   ]
  },
  {
   "cell_type": "code",
   "execution_count": 31,
   "metadata": {},
   "outputs": [
    {
     "name": "stderr",
     "output_type": "stream",
     "text": [
      "/usr/local/anaconda3/envs/min_ds-env/lib/python3.8/site-packages/seaborn/distributions.py:306: UserWarning: Dataset has 0 variance; skipping density estimate.\n",
      "  warnings.warn(msg, UserWarning)\n",
      "/usr/local/anaconda3/envs/min_ds-env/lib/python3.8/site-packages/seaborn/distributions.py:306: UserWarning: Dataset has 0 variance; skipping density estimate.\n",
      "  warnings.warn(msg, UserWarning)\n",
      "/usr/local/anaconda3/envs/min_ds-env/lib/python3.8/site-packages/seaborn/distributions.py:306: UserWarning: Dataset has 0 variance; skipping density estimate.\n",
      "  warnings.warn(msg, UserWarning)\n",
      "/usr/local/anaconda3/envs/min_ds-env/lib/python3.8/site-packages/seaborn/distributions.py:306: UserWarning: Dataset has 0 variance; skipping density estimate.\n",
      "  warnings.warn(msg, UserWarning)\n",
      "/usr/local/anaconda3/envs/min_ds-env/lib/python3.8/site-packages/seaborn/distributions.py:306: UserWarning: Dataset has 0 variance; skipping density estimate.\n",
      "  warnings.warn(msg, UserWarning)\n",
      "/usr/local/anaconda3/envs/min_ds-env/lib/python3.8/site-packages/seaborn/distributions.py:306: UserWarning: Dataset has 0 variance; skipping density estimate.\n",
      "  warnings.warn(msg, UserWarning)\n",
      "/usr/local/anaconda3/envs/min_ds-env/lib/python3.8/site-packages/seaborn/distributions.py:306: UserWarning: Dataset has 0 variance; skipping density estimate.\n",
      "  warnings.warn(msg, UserWarning)\n",
      "/usr/local/anaconda3/envs/min_ds-env/lib/python3.8/site-packages/seaborn/distributions.py:306: UserWarning: Dataset has 0 variance; skipping density estimate.\n",
      "  warnings.warn(msg, UserWarning)\n",
      "/usr/local/anaconda3/envs/min_ds-env/lib/python3.8/site-packages/seaborn/distributions.py:306: UserWarning: Dataset has 0 variance; skipping density estimate.\n",
      "  warnings.warn(msg, UserWarning)\n",
      "/usr/local/anaconda3/envs/min_ds-env/lib/python3.8/site-packages/seaborn/distributions.py:306: UserWarning: Dataset has 0 variance; skipping density estimate.\n",
      "  warnings.warn(msg, UserWarning)\n",
      "/usr/local/anaconda3/envs/min_ds-env/lib/python3.8/site-packages/seaborn/distributions.py:306: UserWarning: Dataset has 0 variance; skipping density estimate.\n",
      "  warnings.warn(msg, UserWarning)\n",
      "/usr/local/anaconda3/envs/min_ds-env/lib/python3.8/site-packages/seaborn/distributions.py:306: UserWarning: Dataset has 0 variance; skipping density estimate.\n",
      "  warnings.warn(msg, UserWarning)\n",
      "/usr/local/anaconda3/envs/min_ds-env/lib/python3.8/site-packages/seaborn/distributions.py:306: UserWarning: Dataset has 0 variance; skipping density estimate.\n",
      "  warnings.warn(msg, UserWarning)\n",
      "/usr/local/anaconda3/envs/min_ds-env/lib/python3.8/site-packages/seaborn/distributions.py:306: UserWarning: Dataset has 0 variance; skipping density estimate.\n",
      "  warnings.warn(msg, UserWarning)\n",
      "/usr/local/anaconda3/envs/min_ds-env/lib/python3.8/site-packages/seaborn/distributions.py:306: UserWarning: Dataset has 0 variance; skipping density estimate.\n",
      "  warnings.warn(msg, UserWarning)\n",
      "/usr/local/anaconda3/envs/min_ds-env/lib/python3.8/site-packages/seaborn/distributions.py:306: UserWarning: Dataset has 0 variance; skipping density estimate.\n",
      "  warnings.warn(msg, UserWarning)\n",
      "/usr/local/anaconda3/envs/min_ds-env/lib/python3.8/site-packages/seaborn/distributions.py:306: UserWarning: Dataset has 0 variance; skipping density estimate.\n",
      "  warnings.warn(msg, UserWarning)\n",
      "/usr/local/anaconda3/envs/min_ds-env/lib/python3.8/site-packages/seaborn/distributions.py:306: UserWarning: Dataset has 0 variance; skipping density estimate.\n",
      "  warnings.warn(msg, UserWarning)\n",
      "/usr/local/anaconda3/envs/min_ds-env/lib/python3.8/site-packages/seaborn/distributions.py:306: UserWarning: Dataset has 0 variance; skipping density estimate.\n",
      "  warnings.warn(msg, UserWarning)\n",
      "/usr/local/anaconda3/envs/min_ds-env/lib/python3.8/site-packages/seaborn/distributions.py:306: UserWarning: Dataset has 0 variance; skipping density estimate.\n",
      "  warnings.warn(msg, UserWarning)\n",
      "/usr/local/anaconda3/envs/min_ds-env/lib/python3.8/site-packages/seaborn/distributions.py:306: UserWarning: Dataset has 0 variance; skipping density estimate.\n",
      "  warnings.warn(msg, UserWarning)\n",
      "/usr/local/anaconda3/envs/min_ds-env/lib/python3.8/site-packages/seaborn/distributions.py:306: UserWarning: Dataset has 0 variance; skipping density estimate.\n",
      "  warnings.warn(msg, UserWarning)\n",
      "/usr/local/anaconda3/envs/min_ds-env/lib/python3.8/site-packages/seaborn/distributions.py:306: UserWarning: Dataset has 0 variance; skipping density estimate.\n",
      "  warnings.warn(msg, UserWarning)\n",
      "/usr/local/anaconda3/envs/min_ds-env/lib/python3.8/site-packages/seaborn/distributions.py:306: UserWarning: Dataset has 0 variance; skipping density estimate.\n",
      "  warnings.warn(msg, UserWarning)\n",
      "/usr/local/anaconda3/envs/min_ds-env/lib/python3.8/site-packages/seaborn/distributions.py:306: UserWarning: Dataset has 0 variance; skipping density estimate.\n",
      "  warnings.warn(msg, UserWarning)\n",
      "/usr/local/anaconda3/envs/min_ds-env/lib/python3.8/site-packages/seaborn/distributions.py:306: UserWarning: Dataset has 0 variance; skipping density estimate.\n",
      "  warnings.warn(msg, UserWarning)\n",
      "/usr/local/anaconda3/envs/min_ds-env/lib/python3.8/site-packages/seaborn/distributions.py:306: UserWarning: Dataset has 0 variance; skipping density estimate.\n",
      "  warnings.warn(msg, UserWarning)\n",
      "/usr/local/anaconda3/envs/min_ds-env/lib/python3.8/site-packages/seaborn/distributions.py:306: UserWarning: Dataset has 0 variance; skipping density estimate.\n",
      "  warnings.warn(msg, UserWarning)\n",
      "/usr/local/anaconda3/envs/min_ds-env/lib/python3.8/site-packages/seaborn/distributions.py:306: UserWarning: Dataset has 0 variance; skipping density estimate.\n",
      "  warnings.warn(msg, UserWarning)\n",
      "/usr/local/anaconda3/envs/min_ds-env/lib/python3.8/site-packages/seaborn/distributions.py:306: UserWarning: Dataset has 0 variance; skipping density estimate.\n",
      "  warnings.warn(msg, UserWarning)\n",
      "/usr/local/anaconda3/envs/min_ds-env/lib/python3.8/site-packages/seaborn/distributions.py:306: UserWarning: Dataset has 0 variance; skipping density estimate.\n",
      "  warnings.warn(msg, UserWarning)\n",
      "/usr/local/anaconda3/envs/min_ds-env/lib/python3.8/site-packages/seaborn/distributions.py:306: UserWarning: Dataset has 0 variance; skipping density estimate.\n",
      "  warnings.warn(msg, UserWarning)\n",
      "/usr/local/anaconda3/envs/min_ds-env/lib/python3.8/site-packages/seaborn/distributions.py:306: UserWarning: Dataset has 0 variance; skipping density estimate.\n",
      "  warnings.warn(msg, UserWarning)\n",
      "/usr/local/anaconda3/envs/min_ds-env/lib/python3.8/site-packages/seaborn/distributions.py:306: UserWarning: Dataset has 0 variance; skipping density estimate.\n",
      "  warnings.warn(msg, UserWarning)\n",
      "/usr/local/anaconda3/envs/min_ds-env/lib/python3.8/site-packages/seaborn/distributions.py:306: UserWarning: Dataset has 0 variance; skipping density estimate.\n",
      "  warnings.warn(msg, UserWarning)\n",
      "/usr/local/anaconda3/envs/min_ds-env/lib/python3.8/site-packages/seaborn/distributions.py:306: UserWarning: Dataset has 0 variance; skipping density estimate.\n",
      "  warnings.warn(msg, UserWarning)\n",
      "/usr/local/anaconda3/envs/min_ds-env/lib/python3.8/site-packages/seaborn/distributions.py:306: UserWarning: Dataset has 0 variance; skipping density estimate.\n",
      "  warnings.warn(msg, UserWarning)\n",
      "/usr/local/anaconda3/envs/min_ds-env/lib/python3.8/site-packages/seaborn/distributions.py:306: UserWarning: Dataset has 0 variance; skipping density estimate.\n",
      "  warnings.warn(msg, UserWarning)\n",
      "/usr/local/anaconda3/envs/min_ds-env/lib/python3.8/site-packages/seaborn/distributions.py:306: UserWarning: Dataset has 0 variance; skipping density estimate.\n",
      "  warnings.warn(msg, UserWarning)\n",
      "/usr/local/anaconda3/envs/min_ds-env/lib/python3.8/site-packages/seaborn/distributions.py:306: UserWarning: Dataset has 0 variance; skipping density estimate.\n",
      "  warnings.warn(msg, UserWarning)\n",
      "/usr/local/anaconda3/envs/min_ds-env/lib/python3.8/site-packages/seaborn/distributions.py:306: UserWarning: Dataset has 0 variance; skipping density estimate.\n",
      "  warnings.warn(msg, UserWarning)\n",
      "/usr/local/anaconda3/envs/min_ds-env/lib/python3.8/site-packages/seaborn/distributions.py:306: UserWarning: Dataset has 0 variance; skipping density estimate.\n",
      "  warnings.warn(msg, UserWarning)\n",
      "/usr/local/anaconda3/envs/min_ds-env/lib/python3.8/site-packages/seaborn/distributions.py:306: UserWarning: Dataset has 0 variance; skipping density estimate.\n",
      "  warnings.warn(msg, UserWarning)\n",
      "/usr/local/anaconda3/envs/min_ds-env/lib/python3.8/site-packages/seaborn/distributions.py:306: UserWarning: Dataset has 0 variance; skipping density estimate.\n",
      "  warnings.warn(msg, UserWarning)\n",
      "/usr/local/anaconda3/envs/min_ds-env/lib/python3.8/site-packages/seaborn/distributions.py:306: UserWarning: Dataset has 0 variance; skipping density estimate.\n",
      "  warnings.warn(msg, UserWarning)\n",
      "/usr/local/anaconda3/envs/min_ds-env/lib/python3.8/site-packages/seaborn/distributions.py:306: UserWarning: Dataset has 0 variance; skipping density estimate.\n",
      "  warnings.warn(msg, UserWarning)\n",
      "/usr/local/anaconda3/envs/min_ds-env/lib/python3.8/site-packages/seaborn/distributions.py:306: UserWarning: Dataset has 0 variance; skipping density estimate.\n",
      "  warnings.warn(msg, UserWarning)\n",
      "/usr/local/anaconda3/envs/min_ds-env/lib/python3.8/site-packages/seaborn/distributions.py:306: UserWarning: Dataset has 0 variance; skipping density estimate.\n",
      "  warnings.warn(msg, UserWarning)\n",
      "/usr/local/anaconda3/envs/min_ds-env/lib/python3.8/site-packages/seaborn/distributions.py:306: UserWarning: Dataset has 0 variance; skipping density estimate.\n",
      "  warnings.warn(msg, UserWarning)\n",
      "/usr/local/anaconda3/envs/min_ds-env/lib/python3.8/site-packages/seaborn/distributions.py:306: UserWarning: Dataset has 0 variance; skipping density estimate.\n",
      "  warnings.warn(msg, UserWarning)\n",
      "/usr/local/anaconda3/envs/min_ds-env/lib/python3.8/site-packages/seaborn/distributions.py:306: UserWarning: Dataset has 0 variance; skipping density estimate.\n",
      "  warnings.warn(msg, UserWarning)\n",
      "/usr/local/anaconda3/envs/min_ds-env/lib/python3.8/site-packages/seaborn/distributions.py:306: UserWarning: Dataset has 0 variance; skipping density estimate.\n",
      "  warnings.warn(msg, UserWarning)\n",
      "/usr/local/anaconda3/envs/min_ds-env/lib/python3.8/site-packages/seaborn/distributions.py:306: UserWarning: Dataset has 0 variance; skipping density estimate.\n",
      "  warnings.warn(msg, UserWarning)\n",
      "/usr/local/anaconda3/envs/min_ds-env/lib/python3.8/site-packages/seaborn/distributions.py:306: UserWarning: Dataset has 0 variance; skipping density estimate.\n",
      "  warnings.warn(msg, UserWarning)\n",
      "/usr/local/anaconda3/envs/min_ds-env/lib/python3.8/site-packages/seaborn/distributions.py:306: UserWarning: Dataset has 0 variance; skipping density estimate.\n",
      "  warnings.warn(msg, UserWarning)\n",
      "/usr/local/anaconda3/envs/min_ds-env/lib/python3.8/site-packages/seaborn/distributions.py:306: UserWarning: Dataset has 0 variance; skipping density estimate.\n",
      "  warnings.warn(msg, UserWarning)\n",
      "/usr/local/anaconda3/envs/min_ds-env/lib/python3.8/site-packages/seaborn/distributions.py:306: UserWarning: Dataset has 0 variance; skipping density estimate.\n",
      "  warnings.warn(msg, UserWarning)\n",
      "/usr/local/anaconda3/envs/min_ds-env/lib/python3.8/site-packages/seaborn/distributions.py:306: UserWarning: Dataset has 0 variance; skipping density estimate.\n",
      "  warnings.warn(msg, UserWarning)\n",
      "/usr/local/anaconda3/envs/min_ds-env/lib/python3.8/site-packages/seaborn/distributions.py:306: UserWarning: Dataset has 0 variance; skipping density estimate.\n",
      "  warnings.warn(msg, UserWarning)\n",
      "/usr/local/anaconda3/envs/min_ds-env/lib/python3.8/site-packages/seaborn/distributions.py:306: UserWarning: Dataset has 0 variance; skipping density estimate.\n",
      "  warnings.warn(msg, UserWarning)\n",
      "/usr/local/anaconda3/envs/min_ds-env/lib/python3.8/site-packages/seaborn/distributions.py:306: UserWarning: Dataset has 0 variance; skipping density estimate.\n",
      "  warnings.warn(msg, UserWarning)\n",
      "/usr/local/anaconda3/envs/min_ds-env/lib/python3.8/site-packages/seaborn/distributions.py:306: UserWarning: Dataset has 0 variance; skipping density estimate.\n",
      "  warnings.warn(msg, UserWarning)\n",
      "/usr/local/anaconda3/envs/min_ds-env/lib/python3.8/site-packages/seaborn/distributions.py:306: UserWarning: Dataset has 0 variance; skipping density estimate.\n",
      "  warnings.warn(msg, UserWarning)\n",
      "/usr/local/anaconda3/envs/min_ds-env/lib/python3.8/site-packages/seaborn/distributions.py:306: UserWarning: Dataset has 0 variance; skipping density estimate.\n",
      "  warnings.warn(msg, UserWarning)\n",
      "/usr/local/anaconda3/envs/min_ds-env/lib/python3.8/site-packages/seaborn/distributions.py:306: UserWarning: Dataset has 0 variance; skipping density estimate.\n",
      "  warnings.warn(msg, UserWarning)\n",
      "/usr/local/anaconda3/envs/min_ds-env/lib/python3.8/site-packages/seaborn/distributions.py:306: UserWarning: Dataset has 0 variance; skipping density estimate.\n",
      "  warnings.warn(msg, UserWarning)\n",
      "/usr/local/anaconda3/envs/min_ds-env/lib/python3.8/site-packages/seaborn/distributions.py:306: UserWarning: Dataset has 0 variance; skipping density estimate.\n",
      "  warnings.warn(msg, UserWarning)\n",
      "/usr/local/anaconda3/envs/min_ds-env/lib/python3.8/site-packages/seaborn/distributions.py:306: UserWarning: Dataset has 0 variance; skipping density estimate.\n",
      "  warnings.warn(msg, UserWarning)\n",
      "/usr/local/anaconda3/envs/min_ds-env/lib/python3.8/site-packages/seaborn/distributions.py:306: UserWarning: Dataset has 0 variance; skipping density estimate.\n",
      "  warnings.warn(msg, UserWarning)\n",
      "/usr/local/anaconda3/envs/min_ds-env/lib/python3.8/site-packages/seaborn/distributions.py:306: UserWarning: Dataset has 0 variance; skipping density estimate.\n",
      "  warnings.warn(msg, UserWarning)\n",
      "/usr/local/anaconda3/envs/min_ds-env/lib/python3.8/site-packages/seaborn/distributions.py:306: UserWarning: Dataset has 0 variance; skipping density estimate.\n",
      "  warnings.warn(msg, UserWarning)\n",
      "/usr/local/anaconda3/envs/min_ds-env/lib/python3.8/site-packages/seaborn/distributions.py:306: UserWarning: Dataset has 0 variance; skipping density estimate.\n",
      "  warnings.warn(msg, UserWarning)\n",
      "/usr/local/anaconda3/envs/min_ds-env/lib/python3.8/site-packages/seaborn/distributions.py:306: UserWarning: Dataset has 0 variance; skipping density estimate.\n",
      "  warnings.warn(msg, UserWarning)\n",
      "/usr/local/anaconda3/envs/min_ds-env/lib/python3.8/site-packages/seaborn/distributions.py:306: UserWarning: Dataset has 0 variance; skipping density estimate.\n",
      "  warnings.warn(msg, UserWarning)\n",
      "/usr/local/anaconda3/envs/min_ds-env/lib/python3.8/site-packages/seaborn/distributions.py:306: UserWarning: Dataset has 0 variance; skipping density estimate.\n",
      "  warnings.warn(msg, UserWarning)\n",
      "/usr/local/anaconda3/envs/min_ds-env/lib/python3.8/site-packages/seaborn/distributions.py:306: UserWarning: Dataset has 0 variance; skipping density estimate.\n",
      "  warnings.warn(msg, UserWarning)\n",
      "/usr/local/anaconda3/envs/min_ds-env/lib/python3.8/site-packages/seaborn/distributions.py:306: UserWarning: Dataset has 0 variance; skipping density estimate.\n",
      "  warnings.warn(msg, UserWarning)\n",
      "/usr/local/anaconda3/envs/min_ds-env/lib/python3.8/site-packages/seaborn/distributions.py:306: UserWarning: Dataset has 0 variance; skipping density estimate.\n",
      "  warnings.warn(msg, UserWarning)\n",
      "/usr/local/anaconda3/envs/min_ds-env/lib/python3.8/site-packages/seaborn/distributions.py:306: UserWarning: Dataset has 0 variance; skipping density estimate.\n",
      "  warnings.warn(msg, UserWarning)\n",
      "/usr/local/anaconda3/envs/min_ds-env/lib/python3.8/site-packages/seaborn/distributions.py:306: UserWarning: Dataset has 0 variance; skipping density estimate.\n",
      "  warnings.warn(msg, UserWarning)\n",
      "/usr/local/anaconda3/envs/min_ds-env/lib/python3.8/site-packages/seaborn/distributions.py:306: UserWarning: Dataset has 0 variance; skipping density estimate.\n",
      "  warnings.warn(msg, UserWarning)\n",
      "/usr/local/anaconda3/envs/min_ds-env/lib/python3.8/site-packages/seaborn/distributions.py:306: UserWarning: Dataset has 0 variance; skipping density estimate.\n",
      "  warnings.warn(msg, UserWarning)\n",
      "/usr/local/anaconda3/envs/min_ds-env/lib/python3.8/site-packages/seaborn/distributions.py:306: UserWarning: Dataset has 0 variance; skipping density estimate.\n",
      "  warnings.warn(msg, UserWarning)\n",
      "/usr/local/anaconda3/envs/min_ds-env/lib/python3.8/site-packages/seaborn/distributions.py:306: UserWarning: Dataset has 0 variance; skipping density estimate.\n",
      "  warnings.warn(msg, UserWarning)\n",
      "/usr/local/anaconda3/envs/min_ds-env/lib/python3.8/site-packages/seaborn/distributions.py:306: UserWarning: Dataset has 0 variance; skipping density estimate.\n",
      "  warnings.warn(msg, UserWarning)\n",
      "/usr/local/anaconda3/envs/min_ds-env/lib/python3.8/site-packages/seaborn/distributions.py:306: UserWarning: Dataset has 0 variance; skipping density estimate.\n",
      "  warnings.warn(msg, UserWarning)\n",
      "/usr/local/anaconda3/envs/min_ds-env/lib/python3.8/site-packages/seaborn/distributions.py:306: UserWarning: Dataset has 0 variance; skipping density estimate.\n",
      "  warnings.warn(msg, UserWarning)\n",
      "/usr/local/anaconda3/envs/min_ds-env/lib/python3.8/site-packages/seaborn/distributions.py:306: UserWarning: Dataset has 0 variance; skipping density estimate.\n",
      "  warnings.warn(msg, UserWarning)\n",
      "/usr/local/anaconda3/envs/min_ds-env/lib/python3.8/site-packages/seaborn/distributions.py:306: UserWarning: Dataset has 0 variance; skipping density estimate.\n",
      "  warnings.warn(msg, UserWarning)\n",
      "/usr/local/anaconda3/envs/min_ds-env/lib/python3.8/site-packages/seaborn/distributions.py:306: UserWarning: Dataset has 0 variance; skipping density estimate.\n",
      "  warnings.warn(msg, UserWarning)\n",
      "/usr/local/anaconda3/envs/min_ds-env/lib/python3.8/site-packages/seaborn/distributions.py:306: UserWarning: Dataset has 0 variance; skipping density estimate.\n",
      "  warnings.warn(msg, UserWarning)\n",
      "/usr/local/anaconda3/envs/min_ds-env/lib/python3.8/site-packages/seaborn/distributions.py:306: UserWarning: Dataset has 0 variance; skipping density estimate.\n",
      "  warnings.warn(msg, UserWarning)\n",
      "/usr/local/anaconda3/envs/min_ds-env/lib/python3.8/site-packages/seaborn/distributions.py:306: UserWarning: Dataset has 0 variance; skipping density estimate.\n",
      "  warnings.warn(msg, UserWarning)\n",
      "/usr/local/anaconda3/envs/min_ds-env/lib/python3.8/site-packages/seaborn/distributions.py:306: UserWarning: Dataset has 0 variance; skipping density estimate.\n",
      "  warnings.warn(msg, UserWarning)\n",
      "/usr/local/anaconda3/envs/min_ds-env/lib/python3.8/site-packages/seaborn/distributions.py:306: UserWarning: Dataset has 0 variance; skipping density estimate.\n",
      "  warnings.warn(msg, UserWarning)\n",
      "/usr/local/anaconda3/envs/min_ds-env/lib/python3.8/site-packages/seaborn/distributions.py:306: UserWarning: Dataset has 0 variance; skipping density estimate.\n",
      "  warnings.warn(msg, UserWarning)\n",
      "/usr/local/anaconda3/envs/min_ds-env/lib/python3.8/site-packages/seaborn/distributions.py:306: UserWarning: Dataset has 0 variance; skipping density estimate.\n",
      "  warnings.warn(msg, UserWarning)\n",
      "/usr/local/anaconda3/envs/min_ds-env/lib/python3.8/site-packages/seaborn/distributions.py:306: UserWarning: Dataset has 0 variance; skipping density estimate.\n",
      "  warnings.warn(msg, UserWarning)\n",
      "/usr/local/anaconda3/envs/min_ds-env/lib/python3.8/site-packages/seaborn/distributions.py:306: UserWarning: Dataset has 0 variance; skipping density estimate.\n",
      "  warnings.warn(msg, UserWarning)\n",
      "/usr/local/anaconda3/envs/min_ds-env/lib/python3.8/site-packages/seaborn/distributions.py:306: UserWarning: Dataset has 0 variance; skipping density estimate.\n",
      "  warnings.warn(msg, UserWarning)\n",
      "/usr/local/anaconda3/envs/min_ds-env/lib/python3.8/site-packages/seaborn/distributions.py:306: UserWarning: Dataset has 0 variance; skipping density estimate.\n",
      "  warnings.warn(msg, UserWarning)\n",
      "/usr/local/anaconda3/envs/min_ds-env/lib/python3.8/site-packages/seaborn/distributions.py:306: UserWarning: Dataset has 0 variance; skipping density estimate.\n",
      "  warnings.warn(msg, UserWarning)\n",
      "/usr/local/anaconda3/envs/min_ds-env/lib/python3.8/site-packages/seaborn/distributions.py:306: UserWarning: Dataset has 0 variance; skipping density estimate.\n",
      "  warnings.warn(msg, UserWarning)\n",
      "/usr/local/anaconda3/envs/min_ds-env/lib/python3.8/site-packages/seaborn/distributions.py:306: UserWarning: Dataset has 0 variance; skipping density estimate.\n",
      "  warnings.warn(msg, UserWarning)\n",
      "/usr/local/anaconda3/envs/min_ds-env/lib/python3.8/site-packages/seaborn/distributions.py:306: UserWarning: Dataset has 0 variance; skipping density estimate.\n",
      "  warnings.warn(msg, UserWarning)\n",
      "/usr/local/anaconda3/envs/min_ds-env/lib/python3.8/site-packages/seaborn/distributions.py:306: UserWarning: Dataset has 0 variance; skipping density estimate.\n",
      "  warnings.warn(msg, UserWarning)\n",
      "/usr/local/anaconda3/envs/min_ds-env/lib/python3.8/site-packages/seaborn/distributions.py:306: UserWarning: Dataset has 0 variance; skipping density estimate.\n",
      "  warnings.warn(msg, UserWarning)\n",
      "/usr/local/anaconda3/envs/min_ds-env/lib/python3.8/site-packages/seaborn/distributions.py:306: UserWarning: Dataset has 0 variance; skipping density estimate.\n",
      "  warnings.warn(msg, UserWarning)\n"
     ]
    },
    {
     "data": {
      "text/plain": [
       "<seaborn.axisgrid.PairGrid at 0x7fb33c172eb0>"
      ]
     },
     "execution_count": 31,
     "metadata": {},
     "output_type": "execute_result"
    },
    {
     "data": {
      "image/png": "[encoded data removed]",
      "text/plain": [
       "<Figure size 1701x1600 with 6 Axes>"
      ]
     },
     "metadata": {},
     "output_type": "display_data"
    }
   ],
   "source": [
    "#Seaborn pair plot\n",
    "df_3d = pd.DataFrame()\n",
    "df_3d['x'] = x\n",
    "df_3d['y'] = y\n",
    "df_3d['z'] = z\n",
    "\n",
    "sns.pairplot(res, hue='price', height=8)"
   ]
  },
  {
   "attachments": {},
   "cell_type": "markdown",
   "metadata": {},
   "source": [
    "**Nhận xét**: Qua 2 biểu đồ cho ta thấy, nhu cầu cho thuê các phòng ở có 2 phòng và rộng khoảng 100 $m^2$ là khá lớn, do đó giá của các phòng đáp ứng điều kiện đó cũng cao so với các giá trị khác. Tiếp đó là các căn hộ có 1 phòng hoặc có kích thước khoảng 50 $m^2$ giá cũng khá cao. "
   ]
  },
  {
   "attachments": {},
   "cell_type": "markdown",
   "metadata": {},
   "source": [
    "### Câu 3. Tìm một căn hộ phù hợp để thuê theo một số tiêu chí?"
   ]
  },
  {
   "attachments": {},
   "cell_type": "markdown",
   "metadata": {},
   "source": [
    "Ví dụ câu hỏi: Muốn tìm một căn chung cư ở Quận 3 có 2 phòng ngủ, giá phòng từ 8 triệu đến 9 triệu."
   ]
  },
  {
   "cell_type": "code",
   "execution_count": 33,
   "metadata": {},
   "outputs": [
    {
     "data": {
      "text/html": [
       "<div>\n",
       "<style scoped>\n",
       "    .dataframe tbody tr th:only-of-type {\n",
       "        vertical-align: middle;\n",
       "    }\n",
       "\n",
       "    .dataframe tbody tr th {\n",
       "        vertical-align: top;\n",
       "    }\n",
       "\n",
       "    .dataframe thead th {\n",
       "        text-align: right;\n",
       "    }\n",
       "</style>\n",
       "<table border=\"1\" class=\"dataframe\">\n",
       "  <thead>\n",
       "    <tr style=\"text-align: right;\">\n",
       "      <th></th>\n",
       "      <th>subject</th>\n",
       "      <th>body</th>\n",
       "      <th>price</th>\n",
       "      <th>price_string</th>\n",
       "      <th>size</th>\n",
       "      <th>rooms</th>\n",
       "      <th>toilets</th>\n",
       "      <th>area_name</th>\n",
       "      <th>ward_name</th>\n",
       "      <th>street_name</th>\n",
       "      <th>deposit</th>\n",
       "      <th>longitude</th>\n",
       "      <th>latitude</th>\n",
       "      <th>apartment_type</th>\n",
       "    </tr>\n",
       "  </thead>\n",
       "  <tbody>\n",
       "    <tr>\n",
       "      <th>2820</th>\n",
       "      <td>Căn hộ 2PN full nội thất giá rẻ ngay Q3 ✅✅✅</td>\n",
       "      <td>KHAI TRƯƠNG CĂN HỘ 2PN, STUDIO CAM KẾT RẺ SIÊU...</td>\n",
       "      <td>9000000</td>\n",
       "      <td>9 triệu/tháng</td>\n",
       "      <td>70</td>\n",
       "      <td>2</td>\n",
       "      <td>1</td>\n",
       "      <td>Quận 3</td>\n",
       "      <td>Phường 10</td>\n",
       "      <td>Đường Cách Mạng Tháng Tám</td>\n",
       "      <td>0</td>\n",
       "      <td>107</td>\n",
       "      <td>11</td>\n",
       "      <td>Căn hộ dịch vụ</td>\n",
       "    </tr>\n",
       "    <tr>\n",
       "      <th>3905</th>\n",
       "      <td>🌈2 PHÒNG NGỦ - NAM KỲ KHỞI NGHĨA - MÁY GIẶT RIÊNG</td>\n",
       "      <td>💭 ƯU ĐÃI HỖ TRỢ KHI XEM PHÒNG VÀ CHỐT PHÒNG\\n🌻...</td>\n",
       "      <td>8000000</td>\n",
       "      <td>8 triệu/tháng</td>\n",
       "      <td>65</td>\n",
       "      <td>2</td>\n",
       "      <td>1</td>\n",
       "      <td>Quận 3</td>\n",
       "      <td>Phường Võ Thị Sáu</td>\n",
       "      <td>Nam Kỳ Khởi Nghĩa</td>\n",
       "      <td>0</td>\n",
       "      <td>107</td>\n",
       "      <td>11</td>\n",
       "      <td>Căn hộ dịch vụ</td>\n",
       "    </tr>\n",
       "    <tr>\n",
       "      <th>5665</th>\n",
       "      <td>Nhà nguyên căn tầng trệt - chung cư Kỳ Đồng - Q.3</td>\n",
       "      <td>Cho thuê nhà nguyên căn tầng trệt đường Kỳ Đồn...</td>\n",
       "      <td>8500000</td>\n",
       "      <td>8,5 triệu/tháng</td>\n",
       "      <td>33</td>\n",
       "      <td>2</td>\n",
       "      <td>1</td>\n",
       "      <td>Quận 3</td>\n",
       "      <td>Phường 9</td>\n",
       "      <td>Đường Kỳ Đồng</td>\n",
       "      <td>0</td>\n",
       "      <td>107</td>\n",
       "      <td>11</td>\n",
       "      <td>Chung cư</td>\n",
       "    </tr>\n",
       "    <tr>\n",
       "      <th>7113</th>\n",
       "      <td>2pn mới tin chưa ai ở qua giá mềm nhất sg</td>\n",
       "      <td>658 CÁCH MẠNG THÁNG TÁM- QUẬN 3 \\nTrung tâ...</td>\n",
       "      <td>9000000</td>\n",
       "      <td>9 triệu/tháng</td>\n",
       "      <td>58</td>\n",
       "      <td>2</td>\n",
       "      <td>1</td>\n",
       "      <td>Quận 3</td>\n",
       "      <td>Phường 10</td>\n",
       "      <td>Cách Mạng Tháng Tám</td>\n",
       "      <td>9000000</td>\n",
       "      <td>107</td>\n",
       "      <td>11</td>\n",
       "      <td>Căn hộ dịch vụ</td>\n",
       "    </tr>\n",
       "    <tr>\n",
       "      <th>8361</th>\n",
       "      <td>Cho thuê lầu 1 chung cư Lý Chính Thắng</td>\n",
       "      <td>Mặt tiền Lý Chính Thắng, có sẵn 1 phòng ngủ, p...</td>\n",
       "      <td>9000000</td>\n",
       "      <td>9 triệu/tháng</td>\n",
       "      <td>51</td>\n",
       "      <td>2</td>\n",
       "      <td>1</td>\n",
       "      <td>Quận 3</td>\n",
       "      <td>Phường Võ Thị Sáu</td>\n",
       "      <td>Đường Lý Chính Thắng</td>\n",
       "      <td>15000000</td>\n",
       "      <td>107</td>\n",
       "      <td>11</td>\n",
       "      <td>Chung cư</td>\n",
       "    </tr>\n",
       "    <tr>\n",
       "      <th>11938</th>\n",
       "      <td>Căn hộ dịch vụ, mini Quận 3 45m² 2PN</td>\n",
       "      <td>Còn một  căn hộ    2PN ,ban công thoáng mát,  ...</td>\n",
       "      <td>8000000</td>\n",
       "      <td>8 triệu/tháng</td>\n",
       "      <td>45</td>\n",
       "      <td>2</td>\n",
       "      <td>2</td>\n",
       "      <td>Quận 3</td>\n",
       "      <td>Phường 13</td>\n",
       "      <td>Trần Quang Diệu</td>\n",
       "      <td>8000000</td>\n",
       "      <td>107</td>\n",
       "      <td>11</td>\n",
       "      <td>Căn hộ dịch vụ</td>\n",
       "    </tr>\n",
       "    <tr>\n",
       "      <th>13898</th>\n",
       "      <td>CHDV 2 PN Full nội thất, Nam Kỳ Khởi Nghĩa, Q3</td>\n",
       "      <td>- Căn hộ 2 phòng ngủ, ban công, cửa sổ thoáng ...</td>\n",
       "      <td>7800000</td>\n",
       "      <td>7,8 triệu/tháng</td>\n",
       "      <td>40</td>\n",
       "      <td>2</td>\n",
       "      <td>1</td>\n",
       "      <td>Quận 3</td>\n",
       "      <td>Phường Võ Thị Sáu</td>\n",
       "      <td>Đường Nam Kỳ Khởi Nghĩa</td>\n",
       "      <td>0</td>\n",
       "      <td>107</td>\n",
       "      <td>11</td>\n",
       "      <td>Căn hộ dịch vụ</td>\n",
       "    </tr>\n",
       "    <tr>\n",
       "      <th>16934</th>\n",
       "      <td>CHDV 65m2 2PN đường Nam Kỳ Khởi Nghĩa ưu đãi  ...</td>\n",
       "      <td>Cho thuê CHDV đường Nam Kỳ Khởi Nghĩa, Phường ...</td>\n",
       "      <td>7500000</td>\n",
       "      <td>7,5 triệu/tháng</td>\n",
       "      <td>65</td>\n",
       "      <td>2</td>\n",
       "      <td>1</td>\n",
       "      <td>Quận 3</td>\n",
       "      <td>Phường Võ Thị Sáu</td>\n",
       "      <td>Nam Kỳ</td>\n",
       "      <td>5000000</td>\n",
       "      <td>107</td>\n",
       "      <td>11</td>\n",
       "      <td>Căn hộ dịch vụ</td>\n",
       "    </tr>\n",
       "  </tbody>\n",
       "</table>\n",
       "</div>"
      ],
      "text/plain": [
       "                                                 subject  \\\n",
       "2820         Căn hộ 2PN full nội thất giá rẻ ngay Q3 ✅✅✅   \n",
       "3905   🌈2 PHÒNG NGỦ - NAM KỲ KHỞI NGHĨA - MÁY GIẶT RIÊNG   \n",
       "5665   Nhà nguyên căn tầng trệt - chung cư Kỳ Đồng - Q.3   \n",
       "7113           2pn mới tin chưa ai ở qua giá mềm nhất sg   \n",
       "8361              Cho thuê lầu 1 chung cư Lý Chính Thắng   \n",
       "11938               Căn hộ dịch vụ, mini Quận 3 45m² 2PN   \n",
       "13898     CHDV 2 PN Full nội thất, Nam Kỳ Khởi Nghĩa, Q3   \n",
       "16934  CHDV 65m2 2PN đường Nam Kỳ Khởi Nghĩa ưu đãi  ...   \n",
       "\n",
       "                                                    body    price  \\\n",
       "2820   KHAI TRƯƠNG CĂN HỘ 2PN, STUDIO CAM KẾT RẺ SIÊU...  9000000   \n",
       "3905   💭 ƯU ĐÃI HỖ TRỢ KHI XEM PHÒNG VÀ CHỐT PHÒNG\\n🌻...  8000000   \n",
       "5665   Cho thuê nhà nguyên căn tầng trệt đường Kỳ Đồn...  8500000   \n",
       "7113   658 CÁCH MẠNG THÁNG TÁM- QUẬN 3 \\nTrung tâ...  9000000   \n",
       "8361   Mặt tiền Lý Chính Thắng, có sẵn 1 phòng ngủ, p...  9000000   \n",
       "11938  Còn một  căn hộ    2PN ,ban công thoáng mát,  ...  8000000   \n",
       "13898  - Căn hộ 2 phòng ngủ, ban công, cửa sổ thoáng ...  7800000   \n",
       "16934  Cho thuê CHDV đường Nam Kỳ Khởi Nghĩa, Phường ...  7500000   \n",
       "\n",
       "          price_string  size  rooms  toilets area_name          ward_name  \\\n",
       "2820     9 triệu/tháng    70      2        1    Quận 3          Phường 10   \n",
       "3905     8 triệu/tháng    65      2        1    Quận 3  Phường Võ Thị Sáu   \n",
       "5665   8,5 triệu/tháng    33      2        1    Quận 3           Phường 9   \n",
       "7113     9 triệu/tháng    58      2        1    Quận 3          Phường 10   \n",
       "8361     9 triệu/tháng    51      2        1    Quận 3  Phường Võ Thị Sáu   \n",
       "11938    8 triệu/tháng    45      2        2    Quận 3          Phường 13   \n",
       "13898  7,8 triệu/tháng    40      2        1    Quận 3  Phường Võ Thị Sáu   \n",
       "16934  7,5 triệu/tháng    65      2        1    Quận 3  Phường Võ Thị Sáu   \n",
       "\n",
       "                     street_name   deposit  longitude  latitude  \\\n",
       "2820   Đường Cách Mạng Tháng Tám         0        107        11   \n",
       "3905           Nam Kỳ Khởi Nghĩa         0        107        11   \n",
       "5665               Đường Kỳ Đồng         0        107        11   \n",
       "7113         Cách Mạng Tháng Tám   9000000        107        11   \n",
       "8361        Đường Lý Chính Thắng  15000000        107        11   \n",
       "11938            Trần Quang Diệu   8000000        107        11   \n",
       "13898    Đường Nam Kỳ Khởi Nghĩa         0        107        11   \n",
       "16934                     Nam Kỳ   5000000        107        11   \n",
       "\n",
       "       apartment_type  \n",
       "2820   Căn hộ dịch vụ  \n",
       "3905   Căn hộ dịch vụ  \n",
       "5665         Chung cư  \n",
       "7113   Căn hộ dịch vụ  \n",
       "8361         Chung cư  \n",
       "11938  Căn hộ dịch vụ  \n",
       "13898  Căn hộ dịch vụ  \n",
       "16934  Căn hộ dịch vụ  "
      ]
     },
     "execution_count": 33,
     "metadata": {},
     "output_type": "execute_result"
    }
   ],
   "source": [
    "apartment_df[(apartment_df['price'] <= 9000000) & (apartment_df['price'] >= 7000000) & (apartment_df['area_name'] == 'Quận 3') & (apartment_df['rooms'] == 2)]"
   ]
  },
  {
   "cell_type": "markdown",
   "metadata": {
    "collapsed": false
   },
   "source": [
    "## 5. Tổng hợp lại quá trình thực hiện đồ án"
   ]
  },
  {
   "attachments": {},
   "cell_type": "markdown",
   "metadata": {},
   "source": [
    "### Những khó khăn"
   ]
  },
  {
   "attachments": {},
   "cell_type": "markdown",
   "metadata": {},
   "source": [
    "+ Thực hiện đồ án một mình\n",
    "+ Do tự đặt yêu cầu cho bản thân nên tự crawl dữ liệu tốn khá nhiều thời gian, mỗi lần crawl gần 1 tiếng đồng hồ với hơn 20K request\n",
    "+ Do đã đi làm nên thời gian ít và có nhiều đồ án lẫn deadline công việc cần hoàn thành"
   ]
  },
  {
   "attachments": {},
   "cell_type": "markdown",
   "metadata": {},
   "source": [
    "### Những kiến thức học được"
   ]
  },
  {
   "attachments": {},
   "cell_type": "markdown",
   "metadata": {},
   "source": [
    "+ Ôn lại kiến thức về `python`, `pandas`, `numpy`, `matplotlib`\n",
    "+ Tìm hiểu thêm được kiến thức về crawl và eda dữ liệu\n",
    "+ Nâng cao được khả năng viết báo cáo"
   ]
  },
  {
   "attachments": {},
   "cell_type": "markdown",
   "metadata": {},
   "source": [
    "### Sẽ làm gì nếu có thêm thời gian\n"
   ]
  },
  {
   "attachments": {},
   "cell_type": "markdown",
   "metadata": {},
   "source": [
    "+ Đặt ra thêm nhiều câu hỏi hơn, xử lý thêm một feature là khoảng cách tới trung tâm hay tới một hoặc vài địa điểm nào đó do có (lontitude, latitude)\n",
    "+ Mô hình này hoàn toàn áp dụng lại được với giá mua bán chung cư, căn hộ nên có thể tái sử dụng chỉ cần sửa một vài thông số"
   ]
  },
  {
   "attachments": {},
   "cell_type": "markdown",
   "metadata": {},
   "source": [
    "## 6. Tham khảo"
   ]
  },
  {
   "attachments": {},
   "cell_type": "markdown",
   "metadata": {},
   "source": [
    "+ [https://www.kaggle.com/datasets/iamsouravbanerjee/house-rent-prediction-dataset](https://www.kaggle.com/datasets/iamsouravbanerjee/house-rent-prediction-dataset)\n",
    "+ [https://www.kaggle.com/datasets/rubenssjr/brasilian-houses-to-rent](https://www.kaggle.com/datasets/rubenssjr/brasilian-houses-to-rent)\n",
    "+ Tài liệu môn học, các bài lab\n",
    "+ [nhatot.vn](https://www.nhatot.com/thue-can-ho-chung-cu-tp-ho-chi-minh)\n",
    "+ [stackoverflow](https://stackoverflow.com/)"
   ]
  }
 ],
 "metadata": {
  "kernelspec": {
   "display_name": "Python 3.8.8 ('min_ds-env')",
   "language": "python",
   "name": "python3"
  },
  "language_info": {
   "codemirror_mode": {
    "name": "ipython",
    "version": 3
   },
   "file_extension": ".py",
   "mimetype": "text/x-python",
   "name": "python",
   "nbconvert_exporter": "python",
   "pygments_lexer": "ipython3",
   "version": "3.8.8"
  },
  "vscode": {
   "interpreter": {
    "hash": "75ccbbfb758cb8b260b96c86af49cf077d6b01fe5da616cfb80387b4ea6100f5"
   }
  }
 },
 "nbformat": 4,
 "nbformat_minor": 0
}
